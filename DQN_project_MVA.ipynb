{
  "nbformat": 4,
  "nbformat_minor": 0,
  "metadata": {
    "kernelspec": {
      "name": "python3",
      "display_name": "Python 3"
    },
    "language_info": {
      "codemirror_mode": {
        "name": "ipython",
        "version": 3
      },
      "file_extension": ".py",
      "mimetype": "text/x-python",
      "name": "python",
      "nbconvert_exporter": "python",
      "pygments_lexer": "ipython3",
      "version": "3.5.7"
    },
    "colab": {
      "name": "DQN_project_MVA_final_2.ipynb",
      "provenance": [],
      "collapsed_sections": [
        "sE_cX8zkQ5YS"
      ]
    },
    "accelerator": "GPU"
  },
  "cells": [
    {
      "cell_type": "markdown",
      "metadata": {
        "id": "hwbk5a_vQ5X3",
        "colab_type": "text"
      },
      "source": [
        "**You may need to install [OpenCV](https://pypi.python.org/pypi/opencv-python) and [scikit-video](http://www.scikit-video.org/stable/).**"
      ]
    },
    {
      "cell_type": "code",
      "metadata": {
        "id": "eQxLDwSf2c2R",
        "colab_type": "code",
        "outputId": "d6181903-61d9-4e87-95a4-fe8b1e327dfb",
        "colab": {
          "base_uri": "https://localhost:8080/",
          "height": 187
        }
      },
      "source": [
        "!pip install scikit-video\n",
        "!pip install opencv-python"
      ],
      "execution_count": 1,
      "outputs": [
        {
          "output_type": "stream",
          "text": [
            "Collecting scikit-video\n",
            "\u001b[?25l  Downloading https://files.pythonhosted.org/packages/b1/a6/c69cad508139a342810ae46e946ebb3256aa6e42f690d901bb68f50582e3/scikit_video-1.1.11-py2.py3-none-any.whl (2.3MB)\n",
            "\u001b[K     |████████████████████████████████| 2.3MB 3.8MB/s \n",
            "\u001b[?25hRequirement already satisfied: pillow in /usr/local/lib/python3.6/dist-packages (from scikit-video) (6.2.2)\n",
            "Requirement already satisfied: numpy in /usr/local/lib/python3.6/dist-packages (from scikit-video) (1.17.5)\n",
            "Requirement already satisfied: scipy in /usr/local/lib/python3.6/dist-packages (from scikit-video) (1.4.1)\n",
            "Installing collected packages: scikit-video\n",
            "Successfully installed scikit-video-1.1.11\n",
            "Requirement already satisfied: opencv-python in /usr/local/lib/python3.6/dist-packages (4.1.2.30)\n",
            "Requirement already satisfied: numpy>=1.11.3 in /usr/local/lib/python3.6/dist-packages (from opencv-python) (1.17.5)\n"
          ],
          "name": "stdout"
        }
      ]
    },
    {
      "cell_type": "code",
      "metadata": {
        "id": "SGgqp5KsQ5X8",
        "colab_type": "code",
        "colab": {
          "base_uri": "https://localhost:8080/",
          "height": 80
        },
        "outputId": "def7c4cd-a398-48ad-f1aa-994519460491"
      },
      "source": [
        "import keras\n",
        "import numpy as np\n",
        "import io\n",
        "import base64\n",
        "from IPython.display import HTML\n",
        "import skvideo.io\n",
        "import cv2\n",
        "import json\n",
        "\n",
        "from keras.models import Sequential,model_from_json\n",
        "from keras.layers.core import Dense, Flatten\n",
        "from keras.optimizers import sgd\n",
        "from keras.layers import Conv2D, MaxPooling2D, Activation, AveragePooling2D,Reshape,BatchNormalization\n",
        "\n",
        "# A enlever\n",
        "import matplotlib.pyplot as plt\n",
        "import matplotlib\n",
        "matplotlib.rcParams['figure.figsize'] = [15,7]\n"
      ],
      "execution_count": 2,
      "outputs": [
        {
          "output_type": "stream",
          "text": [
            "Using TensorFlow backend.\n"
          ],
          "name": "stderr"
        },
        {
          "output_type": "display_data",
          "data": {
            "text/html": [
              "<p style=\"color: red;\">\n",
              "The default version of TensorFlow in Colab will soon switch to TensorFlow 2.x.<br>\n",
              "We recommend you <a href=\"https://www.tensorflow.org/guide/migrate\" target=\"_blank\">upgrade</a> now \n",
              "or ensure your notebook will continue to use TensorFlow 1.x via the <code>%tensorflow_version 1.x</code> magic:\n",
              "<a href=\"https://colab.research.google.com/notebooks/tensorflow_version.ipynb\" target=\"_blank\">more info</a>.</p>\n"
            ],
            "text/plain": [
              "<IPython.core.display.HTML object>"
            ]
          },
          "metadata": {
            "tags": []
          }
        }
      ]
    },
    {
      "cell_type": "markdown",
      "metadata": {
        "id": "spkrcmWXQ5YA",
        "colab_type": "text"
      },
      "source": [
        "# MiniProject on Deep Reinforcement Learning"
      ]
    },
    {
      "cell_type": "markdown",
      "metadata": {
        "id": "6f-7ChgjQ5YA",
        "colab_type": "text"
      },
      "source": [
        "__Notations__: $E_p$ is the expectation under probability $p$. Please justify each of your answer and widely comment your code."
      ]
    },
    {
      "cell_type": "markdown",
      "metadata": {
        "id": "94Zd1L_RQ5YB",
        "colab_type": "text"
      },
      "source": [
        "# Context"
      ]
    },
    {
      "cell_type": "markdown",
      "metadata": {
        "id": "k9Xorm47Q5YC",
        "colab_type": "text"
      },
      "source": [
        "In a reinforcement learning algorithm, we modelize each step $t$ as an action $a_t$ obtained from a state $s_t$, i.e. $\\{(a_{t},s_{t})_{t\\leq T}\\}$ having the Markov property. We consider a discount factor $\\gamma \\in [0,1]$ that ensures convergence. The goal is to find among all the policies $\\pi$, one that maximizes the expected reward:\n",
        "\n",
        "\\begin{equation*}\n",
        "R(\\pi)=\\sum_{t\\leq T}E_{p^{\\pi}}[\\gamma^t r(s_{t},a_{t})] \\> ,\n",
        "\\end{equation*}\n",
        "\n",
        "where: \n",
        "\\begin{equation*}p^{\\pi}(a_{0},a_{1},s_{1},...,a_{T},s_{T})=p(a_{0})\\prod_{t=1}^{T}\\pi(a_{t}|s_{t})p(s_{t+1}|s_{t},a_{t}) \\> .\n",
        "\\end{equation*}\n",
        "\n",
        "We note the $Q$-function:\n",
        "\n",
        "\\begin{equation*}Q^\\pi(s,a)=E_{p^{\\pi}}[\\sum_{t\\leq T}\\gamma^{t}r(s_{t},a_{t})|s_{0}=s,a_{0}=a] \\> .\n",
        "\\end{equation*}\n",
        "\n",
        "Thus, the optimal Q function is:\n",
        "\\begin{equation*}\n",
        "Q^*(s,a)=\\max_{\\pi}Q^\\pi(s,a) \\> .\n",
        "\\end{equation*}\n",
        "\n",
        "In this project, we will apply the deep reinforcement learning techniques to a simple game: an agent will have to learn from scratch a policy that will permit it maximizing a reward."
      ]
    },
    {
      "cell_type": "markdown",
      "metadata": {
        "id": "Nf1k1DEOQ5YD",
        "colab_type": "text"
      },
      "source": [
        "## The environment, the agent and the game"
      ]
    },
    {
      "cell_type": "markdown",
      "metadata": {
        "id": "lOvsQHVrQ5YE",
        "colab_type": "text"
      },
      "source": [
        "### The environment"
      ]
    },
    {
      "cell_type": "markdown",
      "metadata": {
        "id": "Df29fW5UQ5YE",
        "colab_type": "text"
      },
      "source": [
        "```Environment``` is an abstract class that represents the states, rewards, and actions to obtain the new state."
      ]
    },
    {
      "cell_type": "code",
      "metadata": {
        "id": "hm0rSDlJQ5YF",
        "colab_type": "code",
        "colab": {}
      },
      "source": [
        "class Environment(object):\n",
        "    def __init__(self):\n",
        "        pass\n",
        "\n",
        "    def act(self, act):\n",
        "        \"\"\"\n",
        "        One can act on the environment and obtain its reaction:\n",
        "        - the new state\n",
        "        - the reward of the new state\n",
        "        - should we continue the game?\n",
        "\n",
        "        :return: state, reward, game_over\n",
        "        \"\"\"\n",
        "        pass\n",
        "\n",
        "\n",
        "    def reset(self):\n",
        "        \"\"\"\n",
        "        Reinitialize the environment to a random state and returns\n",
        "        the original state\n",
        "\n",
        "        :return: state\n",
        "        \"\"\"\n",
        "        pass\n",
        "    \n",
        "    def draw(self):\n",
        "        \"\"\"\n",
        "        Visualize in the console or graphically the current state\n",
        "        \"\"\"\n",
        "        pass"
      ],
      "execution_count": 0,
      "outputs": []
    },
    {
      "cell_type": "markdown",
      "metadata": {
        "id": "LODPVgLpQ5YH",
        "colab_type": "text"
      },
      "source": [
        "The method ```act``` allows to act on the environment at a given state $s_t$ (stored internally), via action $a_t$. The method will return the new state $s_{t+1}$, the reward $r(s_{t},a_{t})$ and determines if $t\\leq T$ (*game_over*).\n",
        "\n",
        "The method ```reset``` simply reinitializes the environment to a random state $s_0$.\n",
        "\n",
        "The method ```draw``` displays the current state $s_t$ (this is useful to check the behavior of the Agent).\n",
        "\n",
        "We modelize $s_t$ as a tensor, while $a_t$ is an integer."
      ]
    },
    {
      "cell_type": "markdown",
      "metadata": {
        "id": "HMnOBNwkQ5YI",
        "colab_type": "text"
      },
      "source": [
        "### The Agent"
      ]
    },
    {
      "cell_type": "markdown",
      "metadata": {
        "id": "0gRVI9ySQ5YL",
        "colab_type": "text"
      },
      "source": [
        "The goal of the ```Agent``` is to interact with the ```Environment``` by proposing actions $a_t$ obtained from a given state $s_t$ to attempt to maximize its __reward__ $r(s_t,a_t)$. We propose the following abstract class:"
      ]
    },
    {
      "cell_type": "code",
      "metadata": {
        "id": "InjWL64QQ5YN",
        "colab_type": "code",
        "colab": {}
      },
      "source": [
        "class Agent(object):\n",
        "    def __init__(self, epsilon=0.1, n_action=4):\n",
        "        self.epsilon = epsilon\n",
        "        self.n_action = n_action\n",
        "    \n",
        "    def set_epsilon(self,e):\n",
        "        self.epsilon = e\n",
        "\n",
        "    def act(self,s,train=True):\n",
        "        \"\"\" This function should return the next action to do:\n",
        "        an integer between 0 and 4 (not included) with a random exploration of epsilon\"\"\"\n",
        "        if train:\n",
        "            if np.random.rand() <= self.epsilon:\n",
        "                a = np.random.randint(0, self.n_action, size=1)[0]\n",
        "            else:\n",
        "                a = self.learned_act(s)\n",
        "        else: # in some cases, this can improve the performance.. remove it if poor performances\n",
        "            a = self.learned_act(s)\n",
        "\n",
        "        return a\n",
        "\n",
        "    def learned_act(self,s):\n",
        "        \"\"\" Act via the policy of the agent, from a given state s\n",
        "        it proposes an action a\"\"\"\n",
        "        pass\n",
        "\n",
        "    def reinforce(self, s, n_s, a, r, game_over_):\n",
        "        \"\"\" This function is the core of the learning algorithm. \n",
        "        It takes as an input the current state s_, the next state n_s_\n",
        "        the action a_ used to move from s_ to n_s_ and the reward r_.\n",
        "        \n",
        "        Its goal is to learn a policy.\n",
        "        \"\"\"\n",
        "        pass\n",
        "\n",
        "    def save(self):\n",
        "        \"\"\" This function returns basic stats if applicable: the\n",
        "        loss and/or the model\"\"\"\n",
        "        pass\n",
        "\n",
        "    def load(self):\n",
        "        \"\"\" This function allows to restore a model\"\"\"\n",
        "        pass"
      ],
      "execution_count": 0,
      "outputs": []
    },
    {
      "cell_type": "markdown",
      "metadata": {
        "id": "8Qbk8alBQ5YQ",
        "colab_type": "text"
      },
      "source": [
        "***\n",
        "__Question 1__:\n",
        "Explain the function act. Why is ```epsilon``` essential?"
      ]
    },
    {
      "cell_type": "markdown",
      "metadata": {
        "id": "_ShAl1cmQ5YR",
        "colab_type": "text"
      },
      "source": [
        "The function act selects the next action the agent will take at the state s. There are two modes depending on whether we are in train or in test. In train, an epsilon of 0.1 indicates that 10% of the time, an action is chosen randomly instead of the one given by learned_act. This allows the agent to discover new paths that he would not have considered otherwise. This is the dilemma between eploitation and exploration. In test period, the goal being to maximize the gain, we deactivate this mechanism.\n"
      ]
    },
    {
      "cell_type": "markdown",
      "metadata": {
        "id": "sE_cX8zkQ5YS",
        "colab_type": "text"
      },
      "source": [
        "***\n",
        "### The Game"
      ]
    },
    {
      "cell_type": "markdown",
      "metadata": {
        "id": "3Z4sajJLQ5YS",
        "colab_type": "text"
      },
      "source": [
        "The ```Agent``` and the ```Environment``` work in an interlaced way as in the following (take some time to understand this code as it is the core of the project)\n",
        "\n",
        "```python\n",
        "\n",
        "epoch = 300\n",
        "env = Environment()\n",
        "agent = Agent()\n",
        "\n",
        "\n",
        "# Number of won games\n",
        "score = 0\n",
        "loss = 0\n",
        "\n",
        "\n",
        "for e in range(epoch):\n",
        "    # At each epoch, we restart to a fresh game and get the initial state\n",
        "    state = env.reset()\n",
        "    # This assumes that the games will end\n",
        "    game_over = False\n",
        "\n",
        "    win = 0\n",
        "    lose = 0\n",
        "    \n",
        "    while not game_over:\n",
        "        # The agent performs an action\n",
        "        action = agent.act(state)\n",
        "\n",
        "        # Apply an action to the environment, get the next state, the reward\n",
        "        # and if the games end\n",
        "        prev_state = state\n",
        "        state, reward, game_over = env.act(action)\n",
        "\n",
        "        # Update the counters\n",
        "        if reward > 0:\n",
        "            win = win + reward\n",
        "        if reward < 0:\n",
        "            lose = lose -reward\n",
        "\n",
        "        # Apply the reinforcement strategy\n",
        "        loss = agent.reinforce(prev_state, state,  action, reward, game_over)\n",
        "\n",
        "    # Save as a mp4\n",
        "    if e % 10 == 0:\n",
        "        env.draw(e)\n",
        "\n",
        "    # Update stats\n",
        "    score += win-lose\n",
        "\n",
        "    print(\"Epoch {:03d}/{:03d} | Loss {:.4f} | Win/lose count {}/{} ({})\"\n",
        "          .format(e, epoch, loss, win, lose, win-lose))\n",
        "    agent.save()\n",
        "```"
      ]
    },
    {
      "cell_type": "markdown",
      "metadata": {
        "id": "K40lztnNQ5YT",
        "colab_type": "text"
      },
      "source": [
        "# The game, *eat cheese*"
      ]
    },
    {
      "cell_type": "markdown",
      "metadata": {
        "id": "PmGsLE-oQ5YT",
        "colab_type": "text"
      },
      "source": [
        "A rat runs on an island and tries to eat as much as possible. The island is subdivided into $N\\times N$ cells, in which there are cheese (+0.5) and poisonous cells (-1). The rat has a visibility of 2 cells (thus it can see $5^2$ cells). The rat is given a time $T$ to accumulate as much food as possible. It can perform 4 actions: going up, down, left, right. \n",
        "\n",
        "The goal is to code an agent to solve this task that will learn by trial and error. We propose the following environment:"
      ]
    },
    {
      "cell_type": "code",
      "metadata": {
        "id": "zUBy3ib6Q5YU",
        "colab_type": "code",
        "colab": {}
      },
      "source": [
        "class Environment(object):\n",
        "    def __init__(self, grid_size=10, max_time=500, temperature=0.1):\n",
        "        grid_size = grid_size+4\n",
        "        self.grid_size = grid_size\n",
        "        self.max_time = max_time\n",
        "        self.temperature = temperature\n",
        "\n",
        "        #board on which one plays\n",
        "        self.board = np.zeros((grid_size,grid_size))\n",
        "        self.position = np.zeros((grid_size,grid_size))\n",
        "\n",
        "        # coordinate of the cat\n",
        "        self.x = 0\n",
        "        self.y = 1\n",
        "\n",
        "        # self time\n",
        "        self.t = 0\n",
        "\n",
        "        self.scale=16\n",
        "\n",
        "        self.to_draw = np.zeros((max_time+2, grid_size*self.scale, grid_size*self.scale, 3))\n",
        "\n",
        "\n",
        "    def draw(self,e):\n",
        "        skvideo.io.vwrite(str(e) + '.mp4', self.to_draw)\n",
        "\n",
        "    def get_frame(self,t):\n",
        "        b = np.zeros((self.grid_size,self.grid_size,3))+128\n",
        "        b[self.board>0,0] = 256\n",
        "        b[self.board < 0, 2] = 256\n",
        "        b[self.x,self.y,:]=256\n",
        "        b[-2:,:,:]=0\n",
        "        b[:,-2:,:]=0\n",
        "        b[:2,:,:]=0\n",
        "        b[:,:2,:]=0\n",
        "        \n",
        "        b =  cv2.resize(b, None, fx=self.scale, fy=self.scale, interpolation=cv2.INTER_NEAREST)\n",
        "\n",
        "        self.to_draw[t,:,:,:]=b\n",
        "\n",
        "\n",
        "    def act(self, action):\n",
        "        \"\"\"This function returns the new state, reward and decides if the\n",
        "        game ends.\"\"\"\n",
        "\n",
        "        self.get_frame(int(self.t))\n",
        "\n",
        "        self.position = np.zeros((self.grid_size, self.grid_size))\n",
        "\n",
        "        self.position[0:2,:]= -1\n",
        "        self.position[:,0:2] = -1\n",
        "        self.position[-2:, :] = -1\n",
        "        self.position[-2:, :] = -1\n",
        "\n",
        "        self.position[self.x, self.y] = 1\n",
        "        if action == 0:\n",
        "            if self.x == self.grid_size-3:\n",
        "                self.x = self.x-1\n",
        "            else:\n",
        "                self.x = self.x + 1\n",
        "        elif action == 1:\n",
        "            if self.x == 2:\n",
        "                self.x = self.x+1\n",
        "            else:\n",
        "                self.x = self.x-1\n",
        "        elif action == 2:\n",
        "            if self.y == self.grid_size - 3:\n",
        "                self.y = self.y - 1\n",
        "            else:\n",
        "                self.y = self.y + 1\n",
        "        elif action == 3:\n",
        "            if self.y == 2:\n",
        "                self.y = self.y + 1\n",
        "            else:\n",
        "                self.y = self.y - 1\n",
        "        else:\n",
        "            RuntimeError('Error: action not recognized')\n",
        "\n",
        "        self.t = self.t + 1\n",
        "        reward = self.board[self.x, self.y]\n",
        "        self.board[self.x, self.y] = 0\n",
        "        game_over = self.t > self.max_time\n",
        "        state = np.concatenate((self.board.reshape(self.grid_size, self.grid_size,1),\n",
        "                        self.position.reshape(self.grid_size, self.grid_size,1)),axis=2)\n",
        "        state = state[self.x-2:self.x+3,self.y-2:self.y+3,:]\n",
        "\n",
        "        return state, reward, game_over\n",
        "\n",
        "    def reset(self):\n",
        "        \"\"\"This function resets the game and returns the initial state\"\"\"\n",
        "\n",
        "        self.x = np.random.randint(3, self.grid_size-3, size=1)[0]\n",
        "        self.y = np.random.randint(3, self.grid_size-3, size=1)[0]\n",
        "\n",
        "\n",
        "        bonus = 0.5*np.random.binomial(1,self.temperature,size=self.grid_size**2)\n",
        "        bonus = bonus.reshape(self.grid_size,self.grid_size)\n",
        "\n",
        "        malus = -1.0*np.random.binomial(1,self.temperature,size=self.grid_size**2)\n",
        "        malus = malus.reshape(self.grid_size, self.grid_size)\n",
        "\n",
        "        self.to_draw = np.zeros((self.max_time+2, self.grid_size*self.scale, self.grid_size*self.scale, 3))\n",
        "\n",
        "\n",
        "        malus[bonus>0]=0\n",
        "\n",
        "        self.board = bonus + malus\n",
        "\n",
        "        self.position = np.zeros((self.grid_size, self.grid_size))\n",
        "        self.position[0:2,:]= -1\n",
        "        self.position[:,0:2] = -1\n",
        "        self.position[-2:, :] = -1\n",
        "        self.position[-2:, :] = -1\n",
        "        self.board[self.x,self.y] = 0\n",
        "        self.t = 0\n",
        "\n",
        "        state = np.concatenate((\n",
        "                               self.board.reshape(self.grid_size, self.grid_size,1),\n",
        "                        self.position.reshape(self.grid_size, self.grid_size,1)),axis=2)\n",
        "\n",
        "        state = state[self.x - 2:self.x + 3, self.y - 2:self.y + 3, :]\n",
        "        return state"
      ],
      "execution_count": 0,
      "outputs": []
    },
    {
      "cell_type": "markdown",
      "metadata": {
        "id": "TTDZjFq1Q5YW",
        "colab_type": "text"
      },
      "source": [
        "The following elements are important because they correspond to the hyper parameters for this project:"
      ]
    },
    {
      "cell_type": "code",
      "metadata": {
        "id": "Eap7odA5Q5YX",
        "colab_type": "code",
        "colab": {}
      },
      "source": [
        "# parameters\n",
        "size = 13\n",
        "T=200\n",
        "temperature=0.3\n",
        "epochs_train=30 # set small when debugging\n",
        "epochs_test=10 # set small when debugging\n",
        "\n",
        "# display videos\n",
        "def display_videos(name):\n",
        "    video = io.open(name, 'r+b').read()\n",
        "    encoded = base64.b64encode(video)\n",
        "    return '''<video alt=\"test\" controls>\n",
        "                <source src=\"data:video/mp4;base64,{0}\" type=\"video/mp4\" />\n",
        "             </video>'''.format(encoded.decode('ascii'))"
      ],
      "execution_count": 0,
      "outputs": []
    },
    {
      "cell_type": "markdown",
      "metadata": {
        "id": "EsvsNgPLQ5Yc",
        "colab_type": "text"
      },
      "source": [
        "__Question 2__ Explain the use of the arrays ```position``` and ```board```."
      ]
    },
    {
      "cell_type": "markdown",
      "metadata": {
        "id": "NX5xCFEVQ5Yd",
        "colab_type": "text"
      },
      "source": [
        "```position```: position is an $N \\times N$ matrix where the rat position is 1, the allowed position for the future state have the value 0, and the other values are set to -1.\n",
        "\n",
        "```board``` : the variable board is an $N \\times N$ matrix that keeps track of the reward of each cell of the  grid.it's updated each time the rat move to a cell."
      ]
    },
    {
      "cell_type": "markdown",
      "metadata": {
        "id": "Fe1OL-xeQ5Ye",
        "colab_type": "text"
      },
      "source": [
        "## Random Agent"
      ]
    },
    {
      "cell_type": "markdown",
      "metadata": {
        "id": "fqFuGAwDQ5Ye",
        "colab_type": "text"
      },
      "source": [
        "***\n",
        "__Question 3__ Implement a random Agent (only ```learned_act``` needs to be implemented):"
      ]
    },
    {
      "cell_type": "code",
      "metadata": {
        "id": "CStSyklUQ5Yf",
        "colab_type": "code",
        "colab": {}
      },
      "source": [
        "class RandomAgent(Agent):\n",
        "    def __init__(self):\n",
        "        super(RandomAgent, self).__init__()\n",
        "        pass\n",
        "\n",
        "    def learned_act(self, s):\n",
        "\n",
        "        return np.random.randint(0, self.n_action, size=1)[0]\n"
      ],
      "execution_count": 0,
      "outputs": []
    },
    {
      "cell_type": "markdown",
      "metadata": {
        "id": "bpkCu4N1Q5Yi",
        "colab_type": "text"
      },
      "source": [
        "***\n",
        "***\n",
        "__Question 4__ Visualize the game moves. You need to fill in the following function for the evaluation:"
      ]
    },
    {
      "cell_type": "code",
      "metadata": {
        "id": "802bfarmQ5Yi",
        "colab_type": "code",
        "colab": {}
      },
      "source": [
        "def test(agent,env,epochs,prefix='', verbose=True):\n",
        "    # Number of won games\n",
        "    score = 0\n",
        "        \n",
        "    for e in range(epochs):\n",
        "        \n",
        "\n",
        "        state = env.reset()\n",
        "\n",
        "        win = 0\n",
        "        lose = 0\n",
        "\n",
        "        while env.t < T :\n",
        "\n",
        "          action = agent.learned_act(state)\n",
        "\n",
        "          prev_state = state\n",
        "          state, reward, game_over = env.act(action)\n",
        "\n",
        "          if reward > 0:\n",
        "            win = win + reward\n",
        "          if reward < 0:\n",
        "            lose = lose -reward\n",
        "\n",
        "        #####\n",
        "        \n",
        "        # Save as a mp4\n",
        "        env.draw(prefix+str(e))\n",
        "\n",
        "        # Update stats\n",
        "        score = score + win-lose\n",
        "        if verbose : \n",
        "          print(\"Win/lose count {}/{}. Average score ({})\"\n",
        "                .format(win, lose, score/(1+e)))\n",
        "    print('Final score: '+str(score/epochs))"
      ],
      "execution_count": 0,
      "outputs": []
    },
    {
      "cell_type": "code",
      "metadata": {
        "id": "OfgfNX0XQ5Yl",
        "colab_type": "code",
        "outputId": "e89b1279-154a-449d-a3f3-31329a5ef10a",
        "colab": {
          "base_uri": "https://localhost:8080/",
          "height": 327
        }
      },
      "source": [
        "# Initialize the game\n",
        "env = Environment(grid_size=size, max_time=T,temperature=temperature)\n",
        "\n",
        "# Initialize the agent!\n",
        "agent_rdm = RandomAgent()\n",
        "\n",
        "test(agent_rdm,env,1,prefix='random')\n",
        "HTML(display_videos('random0.mp4'))"
      ],
      "execution_count": 0,
      "outputs": [
        {
          "output_type": "stream",
          "text": [
            "Win/lose count 9.5/18.0. Average score (-8.5)\n",
            "Final score: -8.5\n"
          ],
          "name": "stdout"
        },
        {
          "output_type": "execute_result",
          "data": {
            "text/html": [
              "<video alt=\"test\" controls>\n",
              "                <source src=\"data:video/mp4;base64,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\" type=\"video/mp4\" />\n",
              "             </video>"
            ],
            "text/plain": [
              "<IPython.core.display.HTML object>"
            ]
          },
          "metadata": {
            "tags": []
          },
          "execution_count": 12
        }
      ]
    },
    {
      "cell_type": "markdown",
      "metadata": {
        "id": "9ZGEeDLaQ5Yn",
        "colab_type": "text"
      },
      "source": [
        "***\n",
        "## DQN"
      ]
    },
    {
      "cell_type": "markdown",
      "metadata": {
        "id": "TqmphsfxQ5Yn",
        "colab_type": "text"
      },
      "source": [
        "Let us assume here that $T=\\infty$.\n",
        "\n",
        "***\n",
        "__Question 5__ Let $\\pi$ be a policy, show that:\n",
        "\n",
        "\\begin{equation*}\n",
        "Q^{\\pi}(s,a)=E_{(s',a')\\sim p(.|s,a)}[r(s,a)+\\gamma Q^{\\pi}(s',a')]\n",
        "\\end{equation*}\n",
        "\n",
        "\n",
        "Then, show that for the optimal policy $\\pi^*$ (we assume its existence), the following holds: \n",
        "\n",
        "\\begin{equation*}\n",
        "Q^{*}(s,a)=E_{s'\\sim \\pi^*(.|s,a)}[r(s,a)+\\gamma\\max_{a'}Q^{*}(s',a')].\n",
        "\\end{equation*}\n",
        "\n",
        "Finally, deduce that a plausible objective is:\n",
        "\n",
        "\\begin{equation*}\n",
        "\\mathcal{L}(\\theta)=E_{s' \\sim \\pi^*(.|s,a)}\\Vert r+\\gamma\\max\\max_{a'}Q(s',a',\\theta)-Q(s,a,\\theta)\\Vert^{2}.\n",
        "\\end{equation*}\n",
        "\n",
        "1 : \n",
        "In the discounted inifinite case, the expression for the $Q$ function is :\n",
        "\n",
        "\\begin{equation*}Q^\\pi(s,a)=E_{(s',a')\\sim p^{\\pi}(.|s,a)}[\\sum_{t=0}^{\\infty}\\gamma^{t}r(s_{t},a_{t})|s_{0}=s,a_{0}=a]\n",
        "\\end{equation*}\n",
        "\n",
        "Because of the Markov property, and putting t' = t-1 :  we can write : \n",
        "\n",
        "\\begin{equation*}\n",
        "= r(s,a) + \\gamma \\sum_{s'}\\sum_{a'}p^{\\pi}(s',a'|s,a)[\\sum_{t'=0}^{\\infty}\\gamma^{t'}r(s_{t'},a_{t'})|s_{0}=s',a_{0}=a'] \\> \n",
        "\\end{equation*}\n",
        "\n",
        "\\begin{equation*}\n",
        "= r(s,a) + \\gamma \\sum_{s'}\\sum_{a'}p^{\\pi}(s',a'|s,a) Q^{\\pi}(s',a')\\> \n",
        "\\end{equation*}\n",
        "\n",
        "\\begin{equation*}\n",
        "= E_{(s',a')\\sim p^{\\pi}(.|s,a)}[r(s,a)+\\gamma Q^{\\pi}(s',a')])\\> \n",
        "\\end{equation*}\n",
        "\n",
        "2 : \n",
        "The optimal $Q$ function is defined as : \n",
        "\n",
        "\\begin{equation*}\n",
        "Q^*(s,a)=\\max_{\\pi}Q^\\pi(s,a)=Q^{\\pi^{*}}(s,a) \\> .\n",
        "\\end{equation*}\n",
        "\n",
        "so, we replace it in the last equation of part 1 and we get : \n",
        "$$=E_{s'\\sim \\pi^*(.|s,a)}[r(s,a)+\\gamma \\max_{a'} Q^{\\pi^{*}}(s',a')]$$\n",
        "\n",
        "\n",
        "\n",
        "3 : \n",
        "\n",
        "The optimale $Q$ function is the only function that satisfies the Bellmann equation. Threfore, we want to find the $\\theta$ so that the difference :\n",
        "$$r(s,a)+\\gamma\\max_{a'}Q^{*}(s',a')-Q^{*}(s,a)$$\n",
        "is minimal (ideally 0) on average with respect to $p^{\\pi^*}$. \n",
        "If $Q$ is $\\theta$-parametrized, then minimising $\\mathcal{L}(\\theta)$ will make $Q_\\theta$ converge to $Q^*$, with :\n",
        "\\begin{equation*}\n",
        "\\mathcal{L}(\\theta)=E_{s' \\sim \\pi^*(.|s,a)}\\Vert r+\\gamma\\max_{a'}Q(s',a',\\theta)-Q(s,a,\\theta)\\Vert^{2}.\n",
        "\\end{equation*}\n",
        "\n"
      ]
    },
    {
      "cell_type": "markdown",
      "metadata": {
        "id": "PzfAaedFQ5Yo",
        "colab_type": "text"
      },
      "source": [
        "***\n",
        "The DQN-learning algorithm relies on these derivations to train the parameters $\\theta$ of a Deep Neural Network:\n",
        "\n",
        "1. At the state $s_t$, select the action $a_t$ with best reward using $Q_t$ and store the results;\n",
        "\n",
        "2. Obtain the new state $s_{t+1}$ from the environment $p$;\n",
        "\n",
        "3. Store $(s_t,a_t,s_{t+1})$;\n",
        "\n",
        "4. Obtain $Q_{t+1}$ by minimizing  $\\mathcal{L}$ from a recovered batch from the previously stored results.\n",
        "\n",
        "***\n",
        "__Question 6__ Implement the class ```Memory``` that stores moves (in a replay buffer) via ```remember``` and provides a ```random_access``` to these. Specify a maximum memory size to avoid side effects. You can for example use a ```list()``` and set by default ```max_memory=100```."
      ]
    },
    {
      "cell_type": "code",
      "metadata": {
        "id": "68RGpZKNQ5Yp",
        "colab_type": "code",
        "colab": {}
      },
      "source": [
        "class Memory(object):\n",
        "    def __init__(self, max_memory=100):\n",
        "        self.max_memory = max_memory\n",
        "        self.memory = list()\n",
        "\n",
        "    def remember(self, m):\n",
        "        if len(self.memory) == self.max_memory :\n",
        "          del self.memory[0]\n",
        "        self.memory.append(m)\n",
        "\n",
        "    def random_access(self):\n",
        "      return self.memory[np.random.choice(len(self.memory))]"
      ],
      "execution_count": 0,
      "outputs": []
    },
    {
      "cell_type": "markdown",
      "metadata": {
        "id": "-V_bH5a_Q5Yu",
        "colab_type": "text"
      },
      "source": [
        "***\n",
        "The pipeline we will use for training is given below:"
      ]
    },
    {
      "cell_type": "code",
      "metadata": {
        "id": "Kv5F3OiQQ5Yu",
        "colab_type": "code",
        "colab": {}
      },
      "source": [
        "def train(agent,env,epoch,prefix='',verbose=True):\n",
        "    # Number of won games\n",
        "    score = 0\n",
        "    loss = 0\n",
        "\n",
        "    for e in range(1, epoch+1):\n",
        "        # At each epoch, we restart to a fresh game and get the initial state\n",
        "        state = env.reset()\n",
        "        # This assumes that the games will terminate\n",
        "        game_over = False\n",
        "\n",
        "        win = 0\n",
        "        lose = 0\n",
        "\n",
        "        while not game_over:\n",
        "            # The agent performs an action\n",
        "            action = agent.act(state)\n",
        "\n",
        "            # Apply an action to the environment, get the next state, the reward\n",
        "            # and if the games end\n",
        "            prev_state = state\n",
        "            state, reward, game_over = env.act(action)\n",
        "\n",
        "            # Update the counters\n",
        "            if reward > 0:\n",
        "                win = win + reward\n",
        "            if reward < 0:\n",
        "                lose = lose -reward\n",
        "\n",
        "            # Apply the reinforcement strategy\n",
        "            loss = agent.reinforce(prev_state, state,  action, reward, game_over)\n",
        "\n",
        "        # Save as a mp4\n",
        "        if e % 10 == 0:\n",
        "            env.draw(prefix+str(e))\n",
        "\n",
        "        # Update stats\n",
        "        score += win-lose\n",
        "\n",
        "\n",
        "        if verbose : \n",
        "          print(\"Epoch {:03d}/{:03d} | Loss {:.4f} | Win/lose count {}/{} ({})\"\n",
        "                .format(e, epoch, loss, win, lose, win-lose))\n",
        "        agent.save(name_weights=prefix+'model.h5',name_model=prefix+'model.json')\n",
        "\n"
      ],
      "execution_count": 0,
      "outputs": []
    },
    {
      "cell_type": "markdown",
      "metadata": {
        "id": "atBcw9SgQ5Yx",
        "colab_type": "text"
      },
      "source": [
        "***\n",
        "__Question 7__ Implement the DQN training algorithm using a cascade of fully connected layers. You can use different learning rate, batch size or memory size parameters. In particular, the loss might oscillate while the player will start to win the games. You have to find a good criterium.\n",
        "\n",
        "***\n",
        "***\n",
        "\n",
        "We trained the model for 50 epochs and for different sets of parameters, and used the average score over 10 epochs on the test phase to evaluate it."
      ]
    },
    {
      "cell_type": "code",
      "metadata": {
        "id": "0nzbL93QQ5Yy",
        "colab_type": "code",
        "colab": {}
      },
      "source": [
        "class DQN(Agent):\n",
        "    def __init__(self, grid_size,  epsilon = 0.1, memory_size=100, batch_size = 16,n_state=2):\n",
        "        super(DQN, self).__init__(epsilon = epsilon)\n",
        "\n",
        "        # Discount for Q learning\n",
        "        self.gamma = 0.99\n",
        "        \n",
        "        self.grid_size = grid_size\n",
        "        \n",
        "        # number of state\n",
        "        self.n_state = n_state\n",
        "\n",
        "        # Memory\n",
        "        self.memory = Memory(memory_size)\n",
        "        \n",
        "        # Batch size when learning\n",
        "        self.batch_size = batch_size\n",
        "        \n",
        "\n",
        "    def learned_act(self, s):\n",
        "        return np.argmax(self.model.predict(np.expand_dims(s, 0)))\n",
        "\n",
        "    def reinforce(self, s_, n_s_, a_, r_, game_over_):\n",
        "        # Two steps: first memorize the states, second learn from the pool\n",
        "\n",
        "        self.memory.remember([s_, n_s_, a_, r_, game_over_])\n",
        "        \n",
        "        input_states = np.zeros((self.batch_size, 5,5,self.n_state))\n",
        "        target_q = np.zeros((self.batch_size, 4))\n",
        "        \n",
        "        for i in range(self.batch_size):\n",
        "\n",
        "            s_, n_s_, a_, r_, game_over_ = self.memory.random_access()\n",
        "            input_states[i] = s_ \n",
        "\n",
        "            # We only take into account the states and actions where we have new information. \n",
        "            # In the others, the target is the input, and they do not impact the gradient, thus the update of theta.\n",
        "            target_q[i] =self.model.predict(np.expand_dims(s_, axis = 0))\n",
        "            \n",
        "            if game_over_:\n",
        "                target_q[i,a_] = r_\n",
        "            else:\n",
        "                target_q[i,a_] = r_ + self.gamma * np.max(self.model.predict(np.expand_dims(n_s_, axis = 0)))\n",
        "\n",
        "        # HINT: Clip the target to avoid exploiding gradients.. -- clipping is a bit tighter\n",
        "        target_q = np.clip(target_q, -3, 3)\n",
        "\n",
        "        l = self.model.train_on_batch(input_states, target_q)\n",
        "\n",
        "        return l\n",
        "\n",
        "    def save(self,name_weights='model.h5',name_model='model.json'):\n",
        "        self.model.save_weights(name_weights, overwrite=True)\n",
        "        with open(name_model, \"w\") as outfile:\n",
        "            json.dump(self.model.to_json(), outfile)\n",
        "            \n",
        "    def load(self,name_weights='model.h5',name_model='model.json'):\n",
        "        with open(name_model, \"r\") as jfile:\n",
        "            model = model_from_json(json.load(jfile))\n",
        "        model.load_weights(name_weights)\n",
        "        model.compile(\"sgd\", \"mse\")\n",
        "        self.model = model\n",
        "\n",
        "            \n",
        "class DQN_FC(DQN):\n",
        "    def __init__(self, *args, lr=0.1,**kwargs):\n",
        "        super(DQN_FC, self).__init__( *args,**kwargs)\n",
        "        \n",
        "        # NN Model\n",
        "        model = Sequential()\n",
        "        model.add(Flatten(input_shape=(5, 5, self.n_state)))\n",
        "        model.add(Dense(64, activation='relu'))\n",
        "        model.add(Dense(32, activation = \"relu\"))\n",
        "        model.add(Dense(4, activation = 'softmax'))\n",
        "        \n",
        "        model.compile(optimizer = 'adam', loss = \"mse\")\n",
        "        self.model = model\n",
        "        "
      ],
      "execution_count": 0,
      "outputs": []
    },
    {
      "cell_type": "markdown",
      "metadata": {
        "id": "hydsh8-ooxuM",
        "colab_type": "text"
      },
      "source": [
        "We will try a small model then a big model with Adam, a batch size of 64, a learning rate of 0.2 and an epsilon value of 0.1. We will then pick one and find optimal values for the memory size and learning rate. Let's begin with the first model"
      ]
    },
    {
      "cell_type": "code",
      "metadata": {
        "id": "STG-ToGPEjbw",
        "colab_type": "code",
        "outputId": "0ad2d064-1a7e-431e-f655-b51d7a2ffbb4",
        "colab": {
          "base_uri": "https://localhost:8080/",
          "height": 34
        }
      },
      "source": [
        "env = Environment(grid_size=size, max_time=T, temperature=0.3)\n",
        "agent = DQN_FC(size, lr=.1, epsilon = 0.1, memory_size=2000, batch_size = 64)\n",
        "train(agent, env, 30, prefix='fc_train', verbose=False)\n",
        "test(agent,env,10,prefix='fc_test', verbose = False)"
      ],
      "execution_count": 14,
      "outputs": [
        {
          "output_type": "stream",
          "text": [
            "Final score: 3.5\n"
          ],
          "name": "stdout"
        }
      ]
    },
    {
      "cell_type": "code",
      "metadata": {
        "id": "FXnaLi3B03I0",
        "colab_type": "code",
        "colab": {
          "base_uri": "https://localhost:8080/",
          "height": 293
        },
        "outputId": "19e99c33-87dd-4aa6-d22e-9135259bb8bf"
      },
      "source": [
        "HTML(display_videos('fc_test9.mp4'))"
      ],
      "execution_count": 18,
      "outputs": [
        {
          "output_type": "execute_result",
          "data": {
            "text/html": [
              "<video alt=\"test\" controls>\n",
              "                <source src=\"data:video/mp4;base64,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\" type=\"video/mp4\" />\n",
              "             </video>"
            ],
            "text/plain": [
              "<IPython.core.display.HTML object>"
            ]
          },
          "metadata": {
            "tags": []
          },
          "execution_count": 18
        }
      ]
    },
    {
      "cell_type": "markdown",
      "metadata": {
        "id": "KqGGO7SqESzJ",
        "colab_type": "text"
      },
      "source": [
        "Not really good. We can see that the agent gets stuck really fast"
      ]
    },
    {
      "cell_type": "markdown",
      "metadata": {
        "colab_type": "text",
        "id": "sBGETw1uSIfO"
      },
      "source": [
        "Now let's try  a bigger model \n"
      ]
    },
    {
      "cell_type": "code",
      "metadata": {
        "id": "18VOwJAAFMJJ",
        "colab_type": "code",
        "colab": {}
      },
      "source": [
        "class DQN_FC(DQN):\n",
        "    def __init__(self, *args, lr=0.1,**kwargs):\n",
        "        super(DQN_FC, self).__init__( *args,**kwargs)\n",
        "        \n",
        "        # NN Model\n",
        "        model = Sequential()\n",
        "        model.add(Flatten(input_shape=(5, 5, self.n_state)))\n",
        "        model.add(Dense(128, activation='relu'))\n",
        "        model.add(Dense(64, activation = \"relu\"))\n",
        "        model.add(Dense(4, activation = 'softmax'))\n",
        "        \n",
        "        model.compile(optimizer = 'adam', loss = \"mse\")\n",
        "        self.model = model"
      ],
      "execution_count": 0,
      "outputs": []
    },
    {
      "cell_type": "code",
      "metadata": {
        "id": "uiVtUF-kFNGd",
        "colab_type": "code",
        "outputId": "51b75dd7-2bf4-48cb-a99b-f40557e8195a",
        "colab": {
          "base_uri": "https://localhost:8080/",
          "height": 34
        }
      },
      "source": [
        "env = Environment(grid_size=size, max_time=T, temperature=0.3)\n",
        "agent = DQN_FC(size, lr=.1, epsilon = 0.1, memory_size=2000, batch_size = 64)\n",
        "train(agent, env, 30, prefix='fc_train', verbose=False)\n",
        "test(agent,env,10,prefix='fc_test', verbose = False)"
      ],
      "execution_count": 20,
      "outputs": [
        {
          "output_type": "stream",
          "text": [
            "Final score: 4.1\n"
          ],
          "name": "stdout"
        }
      ]
    },
    {
      "cell_type": "code",
      "metadata": {
        "id": "aC9izXcU6vs5",
        "colab_type": "code",
        "colab": {
          "base_uri": "https://localhost:8080/",
          "height": 293
        },
        "outputId": "fe494a87-d410-4dab-c2f2-6300150587a5"
      },
      "source": [
        "HTML(display_videos('fc_test9.mp4'))"
      ],
      "execution_count": 21,
      "outputs": [
        {
          "output_type": "execute_result",
          "data": {
            "text/html": [
              "<video alt=\"test\" controls>\n",
              "                <source src=\"data:video/mp4;base64,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\" type=\"video/mp4\" />\n",
              "             </video>"
            ],
            "text/plain": [
              "<IPython.core.display.HTML object>"
            ]
          },
          "metadata": {
            "tags": []
          },
          "execution_count": 21
        }
      ]
    },
    {
      "cell_type": "markdown",
      "metadata": {
        "id": "Ec-F3-GEPEjR",
        "colab_type": "text"
      },
      "source": [
        "The bigger model seems better. Let's try some other learning rates"
      ]
    },
    {
      "cell_type": "code",
      "metadata": {
        "id": "KQfex7gmLLxE",
        "colab_type": "code",
        "colab": {}
      },
      "source": [
        "class DQN_FC(DQN):\n",
        "    def __init__(self, *args, lr=0.1,**kwargs):\n",
        "        super(DQN_FC, self).__init__( *args,**kwargs)\n",
        "        \n",
        "        # NN Model\n",
        "        model = Sequential()\n",
        "        model.add(Dense(256, input_shape=(5, 5, self.n_state), activation='relu'))\n",
        "        model.add(Dense(128, activation = \"relu\"))\n",
        "        model.add(Dense(32, activation = \"relu\"))\n",
        "        model.add(Flatten())\n",
        "        model.add(Dense(4))\n",
        "        \n",
        "        model.compile(sgd(lr=lr, decay=1e-4, momentum=0.0), \"mse\")\n",
        "        self.model = model"
      ],
      "execution_count": 0,
      "outputs": []
    },
    {
      "cell_type": "code",
      "metadata": {
        "id": "gxo1vhcULTEw",
        "colab_type": "code",
        "outputId": "ef3e3da1-c187-4295-f4ce-f2cb51be4882",
        "colab": {
          "base_uri": "https://localhost:8080/",
          "height": 34
        }
      },
      "source": [
        "env = Environment(grid_size=size, max_time=T, temperature=0.3)\n",
        "agent = DQN_FC(size, lr=.01, epsilon = 0.1, memory_size=2000, batch_size = 64)\n",
        "train(agent, env, 30, prefix='fc_train', verbose=False)\n",
        "test(agent,env,10,prefix='fc_test', verbose = False)"
      ],
      "execution_count": 23,
      "outputs": [
        {
          "output_type": "stream",
          "text": [
            "Final score: 0.2\n"
          ],
          "name": "stdout"
        }
      ]
    },
    {
      "cell_type": "code",
      "metadata": {
        "id": "YRGHX5L_9r1C",
        "colab_type": "code",
        "colab": {
          "base_uri": "https://localhost:8080/",
          "height": 293
        },
        "outputId": "03e43f0a-6555-47f1-8af7-23d17fc3cabf"
      },
      "source": [
        "HTML(display_videos('fc_test9.mp4'))"
      ],
      "execution_count": 24,
      "outputs": [
        {
          "output_type": "execute_result",
          "data": {
            "text/html": [
              "<video alt=\"test\" controls>\n",
              "                <source src=\"data:video/mp4;base64,AAAAIGZ0eXBpc29tAAACAGlzb21pc28yYXZjMW1wNDEAAAAIZnJlZQAAFPptZGF0AAACrQYF//+p3EXpvebZSLeWLNgg2SPu73gyNjQgLSBjb3JlIDE1MiByMjg1NCBlOWE1OTAzIC0gSC4yNjQvTVBFRy00IEFWQyBjb2RlYyAtIENvcHlsZWZ0IDIwMDMtMjAxNyAtIGh0dHA6Ly93d3cudmlkZW9sYW4ub3JnL3gyNjQuaHRtbCAtIG9wdGlvbnM6IGNhYmFjPTEgcmVmPTMgZGVibG9jaz0xOjA6MCBhbmFseXNlPTB4MToweDExMSBtZT1oZXggc3VibWU9NyBwc3k9MSBwc3lfcmQ9MS4wMDowLjAwIG1peGVkX3JlZj0xIG1lX3JhbmdlPTE2IGNocm9tYV9tZT0xIHRyZWxsaXM9MSA4eDhkY3Q9MCBjcW09MCBkZWFkem9uZT0yMSwxMSBmYXN0X3Bza2lwPTEgY2hyb21hX3FwX29mZnNldD00IHRocmVhZHM9MyBsb29rYWhlYWRfdGhyZWFkcz0xIHNsaWNlZF90aHJlYWRzPTAgbnI9MCBkZWNpbWF0ZT0xIGludGVybGFjZWQ9MCBibHVyYXlfY29tcGF0PTAgY29uc3RyYWluZWRfaW50cmE9MCBiZnJhbWVzPTMgYl9weXJhbWlkPTIgYl9hZGFwdD0xIGJfYmlhcz0wIGRpcmVjdD0xIHdlaWdodGI9MSBvcGVuX2dvcD0wIHdlaWdodHA9MiBrZXlpbnQ9MjUwIGtleWludF9taW49MjUgc2NlbmVjdXQ9NDAgaW50cmFfcmVmcmVzaD0wIHJjX2xvb2thaGVhZD00MCByYz1jcmYgbWJ0cmVlPTEgY3JmPTIzLjAgcWNvbXA9MC42MCBxcG1pbj0wIHFwbWF4PTY5IHFwc3RlcD00IGlwX3JhdGlvPTEuNDAgYXE9MToxLjAwAIAAAALzZYiEADv//vb8/AptUwn/LZ/+iL/lb+9P2a61uFE7M7QacwPQC/3cd/Xi1bCrc27LcdG8bJkAU3Roif7wCe9n2YfhfPwKXAUD8CmkyNjbSaAxHhrcKPt/TLhiDUP8uCWmYU0PbvhBfyqYBCf5qqsDb1tEZiPOTSvNdULLTvwgaZ9RV2I8N5bB7OgKqaI02Z855gm8lFLp0Qx+xY0/K8lnXJg1O+b53fROf9hFFVWwnzqBpoYLOCHZPY1JB0VIEjAhJP+BEzSrUKyyeufqmXaeOW9OxRFhiR6RO72AxzgyVvANCQktf/irV9IELpYQUdEz9AgotheNFW52daqaqd9EmTbhaOk2/Qx+dgG7sDxEJOdQyNv4GklDZBjTHS+G3tpGjc/ZhhGBUh7uxv4n7sVlciszPRI0/KTVZYYm0ORnIUrUYrU/czY89QrLRcmie8DjlHsqChNF+eMayEDxmTqLax1qmtBCwH9ect6AB4xAg1SsGor5sis3Z+/Lw8qQqWIaiJ4x4PZBHY/4YuArzGof3QMAEANUErd8eshRXiV/cL5rzO9hf+xs3kmzESYK7llgxqdGYjJCB/h/bZD1tZFmLvzRDUODnb+ATGC/oMebQCLEdUefAmtp9YQpMUcIzCaMkg/VagYKK40apYldYbw/5ZSGeJgAnwnKw+vLJSCqwKVSr9Kcn07w/9dkynryOLo54NJZoOz+Hy8MkZC6rcdhOlNTnQ5Mr4H3jmscQFRq/KwNN0l/XDw3OKIvstvhUuyVQRZ/HooM/CAx4w+rv3GokfcHifuLDnkDtvCweQi8zqzA0WWQACNtDTY+HUS/PnurPMV0S+LQr90kC5KyhsqqPZAfdVI5PCGGgcX50OxjPBNFXUf4qg7JoIqviqrDss0/zOLBtjPaaAQOn0JTp6TNgm3dA1mX7NkpUaG5ZGkYmhsOGH+X+IP6fuJtf3gxXQvyqgo6KWQiEB+C52hTrjpS2e7SNgYLMK+9gv2AjK2EcxwAFbEAAAANQZokbEO//qmWAACVgAAAAApBnkJ4hf8AALKBAAAADwGeYXRCvwD+3HdHbfCpbQAAAA8BnmNqQr8A/nmiC1Hl0m8AAAATQZpoSahBaJlMCHf//qmWAACVgQAAAAxBnoZFESwv/wAAsoEAAAAPAZ6ldEK/AP7cd0dt8KltAAAADwGep2pCvwD+eaILUeXSbgAAABNBmqxJqEFsmUwId//+qZYAAJWAAAAADEGeykUVLC//AACygQAAAA8Bnul0Qr8A/tx3R23wqW0AAAAPAZ7rakK/AP55ogtR5dJuAAAAE0Ga8EmoQWyZTAh3//6plgAAlYEAAAAMQZ8ORRUsL/8AALKBAAAADwGfLXRCvwD+3HdHbfCpbQAAAA8Bny9qQr8A/nmiC1Hl0m4AAAATQZs0SahBbJlMCHf//qmWAACVgAAAAAxBn1JFFSwv/wAAsoEAAAAPAZ9xdEK/AP7cd0dt8KltAAAADwGfc2pCvwD+eaILUeXSbgAAABNBm3hJqEFsmUwId//+qZYAAJWBAAAADEGflkUVLC//AACygAAAAA8Bn7V0Qr8A/tx3R23wqW0AAAAPAZ+3akK/AP55ogtR5dJvAAAAE0GbvEmoQWyZTAh3//6plgAAlYAAAAAMQZ/aRRUsL/8AALKBAAAADwGf+XRCvwD+3HdHbfCpbQAAAA8Bn/tqQr8A/nmiC1Hl0m8AAAATQZvgSahBbJlMCHf//qmWAACVgQAAAAxBnh5FFSwv/wAAsoAAAAAPAZ49dEK/AP7cd0dt8KltAAAADwGeP2pCvwD+eaILUeXSbwAAABNBmiRJqEFsmUwId//+qZYAAJWAAAAADEGeQkUVLC//AACygQAAAA8BnmF0Qr8A/tx3R23wqW0AAAAPAZ5jakK/AP55ogtR5dJvAAAAE0GaaEmoQWyZTAh3//6plgAAlYEAAAAMQZ6GRRUsL/8AALKBAAAADwGepXRCvwD+3HdHbfCpbQAAAA8BnqdqQr8A/nmiC1Hl0m4AAAATQZqsSahBbJlMCHf//qmWAACVgAAAAAxBnspFFSwv/wAAsoEAAAAPAZ7pdEK/AP7cd0dt8KltAAAADwGe62pCvwD+eaILUeXSbgAAABNBmvBJqEFsmUwId//+qZYAAJWBAAAADEGfDkUVLC//AACygQAAAA8Bny10Qr8A/tx3R23wqW0AAAAPAZ8vakK/AP55ogtR5dJuAAAAE0GbNEmoQWyZTAh3//6plgAAlYAAAAAMQZ9SRRUsL/8AALKBAAAADwGfcXRCvwD+3HdHbfCpbQAAAA8Bn3NqQr8A/nmiC1Hl0m4AAAATQZt4SahBbJlMCHf//qmWAACVgQAAAAxBn5ZFFSwv/wAAsoAAAAAPAZ+1dEK/AP7cd0dt8KltAAAADwGft2pCvwD+eaILUeXSbwAAABNBm7xJqEFsmUwId//+qZYAAJWAAAAADEGf2kUVLC//AACygQAAAA8Bn/l0Qr8A/tx3R23wqW0AAAAPAZ/7akK/AP55ogtR5dJvAAAAE0Gb4EmoQWyZTAh3//6plgAAlYEAAAAMQZ4eRRUsL/8AALKAAAAADwGePXRCvwD+3HdHbfCpbQAAAA8Bnj9qQr8A/nmiC1Hl0m8AAAATQZokSahBbJlMCHf//qmWAACVgAAAAAxBnkJFFSwv/wAAsoEAAAAPAZ5hdEK/AP7cd0dt8KltAAAADwGeY2pCvwD+eaILUeXSbwAAABNBmmhJqEFsmUwId//+qZYAAJWBAAAADEGehkUVLC//AACygQAAAA8BnqV0Qr8A/tx3R23wqW0AAAAPAZ6nakK/AP55ogtR5dJuAAAAE0GarEmoQWyZTAh3//6plgAAlYAAAAAMQZ7KRRUsL/8AALKBAAAADwGe6XRCvwD+3HdHbfCpbQAAAA8BnutqQr8A/nmiC1Hl0m4AAAATQZrwSahBbJlMCHf//qmWAACVgQAAAAxBnw5FFSwv/wAAsoEAAAAPAZ8tdEK/AP7cd0dt8KltAAAADwGfL2pCvwD+eaILUeXSbgAAABNBmzRJqEFsmUwId//+qZYAAJWAAAAADEGfUkUVLC//AACygQAAAA8Bn3F0Qr8A/tx3R23wqW0AAAAPAZ9zakK/AP55ogtR5dJuAAAAE0GbeEmoQWyZTAh3//6plgAAlYEAAAAMQZ+WRRUsL/8AALKAAAAADwGftXRCvwD+3HdHbfCpbQAAAA8Bn7dqQr8A/nmiC1Hl0m8AAAATQZu8SahBbJlMCHf//qmWAACVgAAAAAxBn9pFFSwv/wAAsoEAAAAPAZ/5dEK/AP7cd0dt8KltAAAADwGf+2pCvwD+eaILUeXSbwAAABNBm+BJqEFsmUwId//+qZYAAJWBAAAADEGeHkUVLC//AACygAAAAA8Bnj10Qr8A/tx3R23wqW0AAAAPAZ4/akK/AP55ogtR5dJvAAAAE0GaJEmoQWyZTAh3//6plgAAlYAAAAAMQZ5CRRUsL/8AALKBAAAADwGeYXRCvwD+3HdHbfCpbQAAAA8BnmNqQr8A/nmiC1Hl0m8AAAATQZpoSahBbJlMCHf//qmWAACVgQAAAAxBnoZFFSwv/wAAsoEAAAAPAZ6ldEK/AP7cd0dt8KltAAAADwGep2pCvwD+eaILUeXSbgAAABNBmqxJqEFsmUwId//+qZYAAJWAAAAADEGeykUVLC//AACygQAAAA8Bnul0Qr8A/tx3R23wqW0AAAAPAZ7rakK/AP55ogtR5dJuAAAAE0Ga8EmoQWyZTAh3//6plgAAlYEAAAAMQZ8ORRUsL/8AALKBAAAADwGfLXRCvwD+3HdHbfCpbQAAAA8Bny9qQr8A/nmiC1Hl0m4AAAATQZs0SahBbJlMCHf//qmWAACVgAAAAAxBn1JFFSwv/wAAsoEAAAAPAZ9xdEK/AP7cd0dt8KltAAAADwGfc2pCvwD+eaILUeXSbgAAABNBm3hJqEFsmUwId//+qZYAAJWBAAAADEGflkUVLC//AACygAAAAA8Bn7V0Qr8A/tx3R23wqW0AAAAPAZ+3akK/AP55ogtR5dJvAAAAE0GbvEmoQWyZTAh3//6plgAAlYAAAAAMQZ/aRRUsL/8AALKBAAAADwGf+XRCvwD+3HdHbfCpbQAAAA8Bn/tqQr8A/nmiC1Hl0m8AAAATQZvgSahBbJlMCHf//qmWAACVgQAAAAxBnh5FFSwv/wAAsoAAAAAPAZ49dEK/AP7cd0dt8KltAAAADwGeP2pCvwD+eaILUeXSbwAAABNBmiRJqEFsmUwId//+qZYAAJWAAAAADEGeQkUVLC//AACygQAAAA8BnmF0Qr8A/tx3R23wqW0AAAAPAZ5jakK/AP55ogtR5dJvAAAAE0GaaEmoQWyZTAh3//6plgAAlYEAAAAMQZ6GRRUsL/8AALKBAAAADwGepXRCvwD+3HdHbfCpbQAAAA8BnqdqQr8A/nmiC1Hl0m4AAAATQZqsSahBbJlMCHf//qmWAACVgAAAAAxBnspFFSwv/wAAsoEAAAAPAZ7pdEK/AP7cd0dt8KltAAAADwGe62pCvwD+eaILUeXSbgAAABNBmvBJqEFsmUwId//+qZYAAJWBAAAADEGfDkUVLC//AACygQAAAA8Bny10Qr8A/tx3R23wqW0AAAAPAZ8vakK/AP55ogtR5dJuAAAAE0GbNEmoQWyZTAh3//6plgAAlYAAAAAMQZ9SRRUsL/8AALKBAAAADwGfcXRCvwD+3HdHbfCpbQAAAA8Bn3NqQr8A/nmiC1Hl0m4AAAATQZt4SahBbJlMCHf//qmWAACVgQAAAAxBn5ZFFSwv/wAAsoAAAAAPAZ+1dEK/AP7cd0dt8KltAAAADwGft2pCvwD+eaILUeXSbwAAABNBm7xJqEFsmUwId//+qZYAAJWAAAAADEGf2kUVLC//AACygQAAAA8Bn/l0Qr8A/tx3R23wqW0AAAAPAZ/7akK/AP55ogtR5dJvAAAAE0Gb4EmoQWyZTAh3//6plgAAlYEAAAAMQZ4eRRUsL/8AALKAAAAADwGePXRCvwD+3HdHbfCpbQAAAA8Bnj9qQr8A/nmiC1Hl0m8AAAATQZokSahBbJlMCHf//qmWAACVgAAAAAxBnkJFFSwv/wAAsoEAAAAPAZ5hdEK/AP7cd0dt8KltAAAADwGeY2pCvwD+eaILUeXSbwAAABNBmmhJqEFsmUwId//+qZYAAJWBAAAADEGehkUVLC//AACygQAAAA8BnqV0Qr8A/tx3R23wqW0AAAAPAZ6nakK/AP55ogtR5dJuAAAAE0GarEmoQWyZTAh3//6plgAAlYAAAAAMQZ7KRRUsL/8AALKBAAAADwGe6XRCvwD+3HdHbfCpbQAAAA8BnutqQr8A/nmiC1Hl0m4AAAATQZrwSahBbJlMCHf//qmWAACVgQAAAAxBnw5FFSwv/wAAsoEAAAAPAZ8tdEK/AP7cd0dt8KltAAAADwGfL2pCvwD+eaILUeXSbgAAABNBmzRJqEFsmUwId//+qZYAAJWAAAAADEGfUkUVLC//AACygQAAAA8Bn3F0Qr8A/tx3R23wqW0AAAAPAZ9zakK/AP55ogtR5dJuAAAAE0GbeEmoQWyZTAh3//6plgAAlYEAAAAMQZ+WRRUsL/8AALKAAAAADwGftXRCvwD+3HdHbfCpbQAAAA8Bn7dqQr8A/nmiC1Hl0m8AAAATQZu8SahBbJlMCHf//qmWAACVgAAAAAxBn9pFFSwv/wAAsoEAAAAPAZ/5dEK/AP7cd0dt8KltAAAADwGf+2pCvwD+eaILUeXSbwAAABJBm+BJqEFsmUwIb//+p4QAAScAAAAMQZ4eRRUsL/8AALKAAAAADwGePXRCvwD+3HdHbfCpbQAAAA8Bnj9qQr8A/nmiC1Hl0m8AAAASQZokSahBbJlMCG///qeEAAEnAAAADEGeQkUVLC//AACygQAAAA8BnmF0Qr8A/tx3R23wqW0AAAAPAZ5jakK/AP55ogtR5dJvAAAAGkGaaEuoQhBbJEYIKAfyAf2HgCF//oywAASNAAAAI0GehkUVLC//AgHc6kvbMwq5gOgatahcCUAZaJPC3zKTNJwxAAAADwGepXRCvwD+3HdHbfCpbQAAACUBnqdqQr8Cr2PtQcTdqsNJJuWqhhtBzu0YK+zf/5ttfHKwX67AAAAAEkGaqUmoQWyZTAhX//44QAARcAAADIhtb292AAAAbG12aGQAAAAAAAAAAAAAAAAAAAPoAAAfkAABAAABAAAAAAAAAAAAAAAAAQAAAAAAAAAAAAAAAAAAAAEAAAAAAAAAAAAAAAAAAEAAAAAAAAAAAAAAAAAAAAAAAAAAAAAAAAAAAAAAAAACAAALsnRyYWsAAABcdGtoZAAAAAMAAAAAAAAAAAAAAAEAAAAAAAAfkAAAAAAAAAAAAAAAAAAAAAAAAQAAAAAAAAAAAAAAAAAAAAEAAAAAAAAAAAAAAAAAAEAAAAABEAAAARAAAAAAACRlZHRzAAAAHGVsc3QAAAAAAAAAAQAAH5AAAAQAAAEAAAAACyptZGlhAAAAIG1kaGQAAAAAAAAAAAAAAAAAADIAAAGUAFXEAAAAAAAtaGRscgAAAAAAAAAAdmlkZQAAAAAAAAAAAAAAAFZpZGVvSGFuZGxlcgAAAArVbWluZgAAABR2bWhkAAAAAQAAAAAAAAAAAAAAJGRpbmYAAAAcZHJlZgAAAAAAAAABAAAADHVybCAAAAABAAAKlXN0YmwAAACVc3RzZAAAAAAAAAABAAAAhWF2YzEAAAAAAAAAAQAAAAAAAAAAAAAAAAAAAAABEAEQAEgAAABIAAAAAAAAAAEAAAAAAAAAAAAAAAAAAAAAAAAAAAAAAAAAAAAAAAAAAAAY//8AAAAvYXZjQwH0AA3/4QAXZ/QADZGbKCIR0IAAAAMAgAAAGQeKFMsBAAVo6+PESAAAABhzdHRzAAAAAAAAAAEAAADKAAACAAAAABRzdHNzAAAAAAAAAAEAAAABAAAGYGN0dHMAAAAAAAAAygAAAAEAAAQAAAAAAQAACgAAAAABAAAEAAAAAAEAAAAAAAAAAQAAAgAAAAABAAAKAAAAAAEAAAQAAAAAAQAAAAAAAAABAAACAAAAAAEAAAoAAAAAAQAABAAAAAABAAAAAAAAAAEAAAIAAAAAAQAACgAAAAABAAAEAAAAAAEAAAAAAAAAAQAAAgAAAAABAAAKAAAAAAEAAAQAAAAAAQAAAAAAAAABAAACAAAAAAEAAAoAAAAAAQAABAAAAAABAAAAAAAAAAEAAAIAAAAAAQAACgAAAAABAAAEAAAAAAEAAAAAAAAAAQAAAgAAAAABAAAKAAAAAAEAAAQAAAAAAQAAAAAAAAABAAACAAAAAAEAAAoAAAAAAQAABAAAAAABAAAAAAAAAAEAAAIAAAAAAQAACgAAAAABAAAEAAAAAAEAAAAAAAAAAQAAAgAAAAABAAAKAAAAAAEAAAQAAAAAAQAAAAAAAAABAAACAAAAAAEAAAoAAAAAAQAABAAAAAABAAAAAAAAAAEAAAIAAAAAAQAACgAAAAABAAAEAAAAAAEAAAAAAAAAAQAAAgAAAAABAAAKAAAAAAEAAAQAAAAAAQAAAAAAAAABAAACAAAAAAEAAAoAAAAAAQAABAAAAAABAAAAAAAAAAEAAAIAAAAAAQAACgAAAAABAAAEAAAAAAEAAAAAAAAAAQAAAgAAAAABAAAKAAAAAAEAAAQAAAAAAQAAAAAAAAABAAACAAAAAAEAAAoAAAAAAQAABAAAAAABAAAAAAAAAAEAAAIAAAAAAQAACgAAAAABAAAEAAAAAAEAAAAAAAAAAQAAAgAAAAABAAAKAAAAAAEAAAQAAAAAAQAAAAAAAAABAAACAAAAAAEAAAoAAAAAAQAABAAAAAABAAAAAAAAAAEAAAIAAAAAAQAACgAAAAABAAAEAAAAAAEAAAAAAAAAAQAAAgAAAAABAAAKAAAAAAEAAAQAAAAAAQAAAAAAAAABAAACAAAAAAEAAAoAAAAAAQAABAAAAAABAAAAAAAAAAEAAAIAAAAAAQAACgAAAAABAAAEAAAAAAEAAAAAAAAAAQAAAgAAAAABAAAKAAAAAAEAAAQAAAAAAQAAAAAAAAABAAACAAAAAAEAAAoAAAAAAQAABAAAAAABAAAAAAAAAAEAAAIAAAAAAQAACgAAAAABAAAEAAAAAAEAAAAAAAAAAQAAAgAAAAABAAAKAAAAAAEAAAQAAAAAAQAAAAAAAAABAAACAAAAAAEAAAoAAAAAAQAABAAAAAABAAAAAAAAAAEAAAIAAAAAAQAACgAAAAABAAAEAAAAAAEAAAAAAAAAAQAAAgAAAAABAAAKAAAAAAEAAAQAAAAAAQAAAAAAAAABAAACAAAAAAEAAAoAAAAAAQAABAAAAAABAAAAAAAAAAEAAAIAAAAAAQAACgAAAAABAAAEAAAAAAEAAAAAAAAAAQAAAgAAAAABAAAKAAAAAAEAAAQAAAAAAQAAAAAAAAABAAACAAAAAAEAAAoAAAAAAQAABAAAAAABAAAAAAAAAAEAAAIAAAAAAQAACgAAAAABAAAEAAAAAAEAAAAAAAAAAQAAAgAAAAABAAAKAAAAAAEAAAQAAAAAAQAAAAAAAAABAAACAAAAAAEAAAoAAAAAAQAABAAAAAABAAAAAAAAAAEAAAIAAAAAAQAACgAAAAABAAAEAAAAAAEAAAAAAAAAAQAAAgAAAAABAAAKAAAAAAEAAAQAAAAAAQAAAAAAAAABAAACAAAAAAEAAAoAAAAAAQAABAAAAAABAAAAAAAAAAEAAAIAAAAAAQAACgAAAAABAAAEAAAAAAEAAAAAAAAAAQAAAgAAAAABAAAKAAAAAAEAAAQAAAAAAQAAAAAAAAABAAACAAAAAAEAAAoAAAAAAQAABAAAAAABAAAAAAAAAAEAAAIAAAAAAQAACgAAAAABAAAEAAAAAAEAAAAAAAAAAQAAAgAAAAABAAAKAAAAAAEAAAQAAAAAAQAAAAAAAAABAAACAAAAAAEAAAoAAAAAAQAABAAAAAABAAAAAAAAAAEAAAIAAAAAAQAACgAAAAABAAAEAAAAAAEAAAAAAAAAAQAAAgAAAAABAAAKAAAAAAEAAAQAAAAAAQAAAAAAAAABAAACAAAAAAEAAAQAAAAAHHN0c2MAAAAAAAAAAQAAAAEAAADKAAAAAQAAAzxzdHN6AAAAAAAAAAAAAADKAAAFqAAAABEAAAAOAAAAEwAAABMAAAAXAAAAEAAAABMAAAATAAAAFwAAABAAAAATAAAAEwAAABcAAAAQAAAAEwAAABMAAAAXAAAAEAAAABMAAAATAAAAFwAAABAAAAATAAAAEwAAABcAAAAQAAAAEwAAABMAAAAXAAAAEAAAABMAAAATAAAAFwAAABAAAAATAAAAEwAAABcAAAAQAAAAEwAAABMAAAAXAAAAEAAAABMAAAATAAAAFwAAABAAAAATAAAAEwAAABcAAAAQAAAAEwAAABMAAAAXAAAAEAAAABMAAAATAAAAFwAAABAAAAATAAAAEwAAABcAAAAQAAAAEwAAABMAAAAXAAAAEAAAABMAAAATAAAAFwAAABAAAAATAAAAEwAAABcAAAAQAAAAEwAAABMAAAAXAAAAEAAAABMAAAATAAAAFwAAABAAAAATAAAAEwAAABcAAAAQAAAAEwAAABMAAAAXAAAAEAAAABMAAAATAAAAFwAAABAAAAATAAAAEwAAABcAAAAQAAAAEwAAABMAAAAXAAAAEAAAABMAAAATAAAAFwAAABAAAAATAAAAEwAAABcAAAAQAAAAEwAAABMAAAAXAAAAEAAAABMAAAATAAAAFwAAABAAAAATAAAAEwAAABcAAAAQAAAAEwAAABMAAAAXAAAAEAAAABMAAAATAAAAFwAAABAAAAATAAAAEwAAABcAAAAQAAAAEwAAABMAAAAXAAAAEAAAABMAAAATAAAAFwAAABAAAAATAAAAEwAAABcAAAAQAAAAEwAAABMAAAAXAAAAEAAAABMAAAATAAAAFwAAABAAAAATAAAAEwAAABcAAAAQAAAAEwAAABMAAAAXAAAAEAAAABMAAAATAAAAFwAAABAAAAATAAAAEwAAABcAAAAQAAAAEwAAABMAAAAXAAAAEAAAABMAAAATAAAAFwAAABAAAAATAAAAEwAAABcAAAAQAAAAEwAAABMAAAAXAAAAEAAAABMAAAATAAAAFgAAABAAAAATAAAAEwAAABYAAAAQAAAAEwAAABMAAAAeAAAAJwAAABMAAAApAAAAFgAAABRzdGNvAAAAAAAAAAEAAAAwAAAAYnVkdGEAAABabWV0YQAAAAAAAAAhaGRscgAAAAAAAAAAbWRpcmFwcGwAAAAAAAAAAAAAAAAtaWxzdAAAACWpdG9vAAAAHWRhdGEAAAABAAAAAExhdmY1Ny44My4xMDA=\" type=\"video/mp4\" />\n",
              "             </video>"
            ],
            "text/plain": [
              "<IPython.core.display.HTML object>"
            ]
          },
          "metadata": {
            "tags": []
          },
          "execution_count": 24
        }
      ]
    },
    {
      "cell_type": "markdown",
      "metadata": {
        "id": "uIwx5TztDfFB",
        "colab_type": "text"
      },
      "source": [
        "with 0.01, the agent learn nothing. Let's switch back to 0.1 and test the memory size\n",
        "\n"
      ]
    },
    {
      "cell_type": "code",
      "metadata": {
        "id": "Gd7mKXaDGQ0s",
        "colab_type": "code",
        "outputId": "ccff94ba-0dab-41aa-b883-80f326a01557",
        "colab": {
          "base_uri": "https://localhost:8080/",
          "height": 34
        }
      },
      "source": [
        "env = Environment(grid_size=size, max_time=T, temperature=0.3)\n",
        "agent = DQN_FC(size, lr=.1, epsilon = 0.1, memory_size=1000, batch_size = 64)\n",
        "train(agent, env, 30, prefix='fc_train', verbose=False)\n",
        "test(agent,env,10,prefix='fc_test', verbose = False)"
      ],
      "execution_count": 26,
      "outputs": [
        {
          "output_type": "stream",
          "text": [
            "Final score: 3.05\n"
          ],
          "name": "stdout"
        }
      ]
    },
    {
      "cell_type": "code",
      "metadata": {
        "id": "WwrlnThXB7PL",
        "colab_type": "code",
        "colab": {
          "base_uri": "https://localhost:8080/",
          "height": 293
        },
        "outputId": "1f89917b-66ee-47c2-ba78-741277dbeb2c"
      },
      "source": [
        "HTML(display_videos('fc_test9.mp4'))"
      ],
      "execution_count": 27,
      "outputs": [
        {
          "output_type": "execute_result",
          "data": {
            "text/html": [
              "<video alt=\"test\" controls>\n",
              "                <source src=\"data:video/mp4;base64,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\" type=\"video/mp4\" />\n",
              "             </video>"
            ],
            "text/plain": [
              "<IPython.core.display.HTML object>"
            ]
          },
          "metadata": {
            "tags": []
          },
          "execution_count": 27
        }
      ]
    },
    {
      "cell_type": "code",
      "metadata": {
        "id": "Qhy5kZFRvjo1",
        "colab_type": "code",
        "outputId": "ad1ed5e7-bc45-4542-de82-912e829cc647",
        "colab": {
          "base_uri": "https://localhost:8080/",
          "height": 34
        }
      },
      "source": [
        "env = Environment(grid_size=size, max_time=T, temperature=0.3)\n",
        "agent = DQN_FC(size, lr=.1, epsilon = 0.1, memory_size=4000, batch_size = 64)\n",
        "train(agent, env, 30, prefix='fc_train', verbose=False)\n",
        "test(agent,env,10,prefix='fc_test', verbose = False)"
      ],
      "execution_count": 28,
      "outputs": [
        {
          "output_type": "stream",
          "text": [
            "Final score: 2.45\n"
          ],
          "name": "stdout"
        }
      ]
    },
    {
      "cell_type": "code",
      "metadata": {
        "id": "v75lQ1U4Grhu",
        "colab_type": "code",
        "colab": {
          "base_uri": "https://localhost:8080/",
          "height": 293
        },
        "outputId": "02a29d0a-6bbb-405c-fc36-d8fbb7b6692d"
      },
      "source": [
        "HTML(display_videos('fc_test9.mp4'))"
      ],
      "execution_count": 29,
      "outputs": [
        {
          "output_type": "execute_result",
          "data": {
            "text/html": [
              "<video alt=\"test\" controls>\n",
              "                <source src=\"data:video/mp4;base64,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\" type=\"video/mp4\" />\n",
              "             </video>"
            ],
            "text/plain": [
              "<IPython.core.display.HTML object>"
            ]
          },
          "metadata": {
            "tags": []
          },
          "execution_count": 29
        }
      ]
    },
    {
      "cell_type": "markdown",
      "metadata": {
        "id": "qIgsFXZjD2wI",
        "colab_type": "text"
      },
      "source": [
        "The first value seems good. let's stick with 2000\n",
        "we can see that the stucking problem is still there\n"
      ]
    },
    {
      "cell_type": "markdown",
      "metadata": {
        "id": "NmP0sO4lGl7Q",
        "colab_type": "text"
      },
      "source": [
        ""
      ]
    },
    {
      "cell_type": "markdown",
      "metadata": {
        "id": "UeggkEvRQ5Y5",
        "colab_type": "text"
      },
      "source": [
        "***\n",
        "***\n",
        "__Question 8__ Implement the DQN training algorithm using a CNN (for example, 2 convolutional layers and one final fully connected layer)."
      ]
    },
    {
      "cell_type": "code",
      "metadata": {
        "id": "HUuFO_65Q5Y5",
        "colab_type": "code",
        "colab": {}
      },
      "source": [
        "from keras.layers import MaxPool2D\n",
        "class DQN_CNN(DQN):\n",
        "    def __init__(self, *args,lr=0.1,**kwargs):\n",
        "        super(DQN_CNN, self).__init__(*args,**kwargs)\n",
        "        \n",
        "        model = Sequential()\n",
        "        model.add(Conv2D(50,(2,2),input_shape=(5,5,self.n_state,),activation='relu'))\n",
        "        model.add(Conv2D(25,(2,2),activation='relu'))\n",
        "        model.add(Flatten())\n",
        "        model.add(Dense(4, activation = 'softmax'))\n",
        "        \n",
        "        model.compile('adam', \"mse\")\n",
        "        self.model = model"
      ],
      "execution_count": 0,
      "outputs": []
    },
    {
      "cell_type": "code",
      "metadata": {
        "id": "f_o0dHkouE9k",
        "colab_type": "code",
        "outputId": "595220dd-09b0-4613-b9d0-b2993420dcf0",
        "colab": {
          "base_uri": "https://localhost:8080/",
          "height": 527
        }
      },
      "source": [
        "env = Environment(grid_size=size, max_time=T, temperature=0.3)\n",
        "agent = DQN_CNN(size, lr=.1, epsilon = 0.1, memory_size=2000, batch_size = 64)\n",
        "train(agent,env,30,prefix='cnn_train')"
      ],
      "execution_count": 31,
      "outputs": [
        {
          "output_type": "stream",
          "text": [
            "Epoch 001/030 | Loss 0.0016 | Win/lose count 1.5/1.0 (0.5)\n",
            "Epoch 002/030 | Loss 0.0046 | Win/lose count 6.0/4.0 (2.0)\n",
            "Epoch 003/030 | Loss 0.0065 | Win/lose count 11.0/3.0 (8.0)\n",
            "Epoch 004/030 | Loss 0.0066 | Win/lose count 6.0/4.0 (2.0)\n",
            "Epoch 005/030 | Loss 0.0150 | Win/lose count 6.0/2.0 (4.0)\n",
            "Epoch 006/030 | Loss 0.0131 | Win/lose count 14.0/5.0 (9.0)\n",
            "Epoch 007/030 | Loss 0.0064 | Win/lose count 6.5/1.0 (5.5)\n",
            "Epoch 008/030 | Loss 0.0086 | Win/lose count 2.5/0 (2.5)\n",
            "Epoch 009/030 | Loss 0.0076 | Win/lose count 11.5/1.0 (10.5)\n",
            "Epoch 010/030 | Loss 0.0073 | Win/lose count 13.0/4.0 (9.0)\n",
            "Epoch 011/030 | Loss 0.0078 | Win/lose count 5.5/3.0 (2.5)\n",
            "Epoch 012/030 | Loss 0.0072 | Win/lose count 1.0/2.0 (-1.0)\n",
            "Epoch 013/030 | Loss 0.0049 | Win/lose count 4.5/4.0 (0.5)\n",
            "Epoch 014/030 | Loss 0.0066 | Win/lose count 17.0/10.0 (7.0)\n",
            "Epoch 015/030 | Loss 0.0164 | Win/lose count 18.0/4.0 (14.0)\n",
            "Epoch 016/030 | Loss 0.0097 | Win/lose count 14.5/4.0 (10.5)\n",
            "Epoch 017/030 | Loss 0.0188 | Win/lose count 10.0/6.0 (4.0)\n",
            "Epoch 018/030 | Loss 0.0042 | Win/lose count 15.5/5.0 (10.5)\n",
            "Epoch 019/030 | Loss 0.0132 | Win/lose count 5.5/1.0 (4.5)\n",
            "Epoch 020/030 | Loss 0.0034 | Win/lose count 17.5/3.0 (14.5)\n",
            "Epoch 021/030 | Loss 0.0097 | Win/lose count 16.0/5.0 (11.0)\n",
            "Epoch 022/030 | Loss 0.0085 | Win/lose count 11.0/2.0 (9.0)\n",
            "Epoch 023/030 | Loss 0.0136 | Win/lose count 14.0/4.0 (10.0)\n",
            "Epoch 024/030 | Loss 0.0186 | Win/lose count 10.0/3.0 (7.0)\n",
            "Epoch 025/030 | Loss 0.0079 | Win/lose count 4.0/0 (4.0)\n",
            "Epoch 026/030 | Loss 0.0156 | Win/lose count 22.0/4.0 (18.0)\n",
            "Epoch 027/030 | Loss 0.0085 | Win/lose count 8.0/2.0 (6.0)\n",
            "Epoch 028/030 | Loss 0.0092 | Win/lose count 17.0/2.0 (15.0)\n",
            "Epoch 029/030 | Loss 0.0111 | Win/lose count 12.0/3.0 (9.0)\n",
            "Epoch 030/030 | Loss 0.0183 | Win/lose count 16.0/1.0 (15.0)\n"
          ],
          "name": "stdout"
        }
      ]
    },
    {
      "cell_type": "markdown",
      "metadata": {
        "id": "0_YuAMC3Vlnq",
        "colab_type": "text"
      },
      "source": [
        ""
      ]
    },
    {
      "cell_type": "code",
      "metadata": {
        "id": "aP2SgPBfVl9H",
        "colab_type": "code",
        "outputId": "245ba280-d99e-46df-e3b3-c12521f1f7c0",
        "colab": {
          "base_uri": "https://localhost:8080/",
          "height": 204
        }
      },
      "source": [
        "test(agent,env,epochs_test,prefix='cnn_test')"
      ],
      "execution_count": 32,
      "outputs": [
        {
          "output_type": "stream",
          "text": [
            "Win/lose count 11.5/0. Average score (11.5)\n",
            "Win/lose count 6.5/0. Average score (9.0)\n",
            "Win/lose count 3.5/1.0. Average score (6.833333333333333)\n",
            "Win/lose count 4.5/0. Average score (6.25)\n",
            "Win/lose count 16.5/0. Average score (8.3)\n",
            "Win/lose count 4.0/0. Average score (7.583333333333333)\n",
            "Win/lose count 4.5/0. Average score (7.142857142857143)\n",
            "Win/lose count 7.5/0. Average score (7.1875)\n",
            "Win/lose count 2.5/0. Average score (6.666666666666667)\n",
            "Win/lose count 8.0/1.0. Average score (6.7)\n",
            "Final score: 6.7\n"
          ],
          "name": "stdout"
        }
      ]
    },
    {
      "cell_type": "code",
      "metadata": {
        "id": "fef5qpE4LGAp",
        "colab_type": "code",
        "colab": {
          "base_uri": "https://localhost:8080/",
          "height": 293
        },
        "outputId": "3f5ac03e-a0bf-45d1-a6c5-e4fef40b22ef"
      },
      "source": [
        "HTML(display_videos('cnn_test9.mp4'))"
      ],
      "execution_count": 33,
      "outputs": [
        {
          "output_type": "execute_result",
          "data": {
            "text/html": [
              "<video alt=\"test\" controls>\n",
              "                <source src=\"data:video/mp4;base64,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\" type=\"video/mp4\" />\n",
              "             </video>"
            ],
            "text/plain": [
              "<IPython.core.display.HTML object>"
            ]
          },
          "metadata": {
            "tags": []
          },
          "execution_count": 33
        }
      ]
    },
    {
      "cell_type": "markdown",
      "metadata": {
        "id": "uhs2rdQWT5LZ",
        "colab_type": "text"
      },
      "source": [
        "\n",
        "\n",
        "the CNN seems way better than the FC network, but the stucking problem is still there let's compare them side by side."
      ]
    },
    {
      "cell_type": "markdown",
      "metadata": {
        "id": "4PUWWF_DQ5ZA",
        "colab_type": "text"
      },
      "source": [
        "***\n",
        "***\n",
        "__Question 9__ Test both algorithms and compare their performances. Which issue(s) do you observe? Observe also different behaviors by changing the temperature."
      ]
    },
    {
      "cell_type": "markdown",
      "metadata": {
        "id": "uNlOXUxTNkvW",
        "colab_type": "text"
      },
      "source": [
        "we will do this for 3 different temperatures values\n",
        "first : with 0.1![alt text](https://), then with 0.5. we can then compare with previous results that are for 0.3"
      ]
    },
    {
      "cell_type": "code",
      "metadata": {
        "id": "85fXEUlEvMiq",
        "colab_type": "code",
        "outputId": "c69e93b2-74db-4472-a4da-af18b67be266",
        "colab": {
          "base_uri": "https://localhost:8080/",
          "height": 425
        }
      },
      "source": [
        "env = Environment(grid_size=size, max_time=T,temperature=0.1)\n",
        "agent_cnn = DQN_CNN(size, lr=.1, epsilon = 0.1, memory_size=2000, batch_size = 64)\n",
        "agent_cnn.load(name_weights='cnn_trainmodel.h5',name_model='cnn_trainmodel.json')\n",
        "\n",
        "agent_fc = DQN_FC(size, lr=.1, epsilon = 0.1, memory_size=2000, batch_size = 64)\n",
        "agent_cnn.load(name_weights='fc_trainmodel.h5',name_model='fc_trainmodel.json')\n",
        "print('Test of the CNN')\n",
        "test(agent_cnn,env,epochs_test,prefix='cnn_test')\n",
        "print('Test of the FC')\n",
        "test(agent_fc,env,epochs_test,prefix='fc_test')"
      ],
      "execution_count": 34,
      "outputs": [
        {
          "output_type": "stream",
          "text": [
            "Test of the CNN\n",
            "Win/lose count 2.0/0. Average score (2.0)\n",
            "Win/lose count 1.0/0. Average score (1.5)\n",
            "Win/lose count 4.0/0. Average score (2.3333333333333335)\n",
            "Win/lose count 1.5/0. Average score (2.125)\n",
            "Win/lose count 3.5/0. Average score (2.4)\n",
            "Win/lose count 1.5/0. Average score (2.25)\n",
            "Win/lose count 2.0/0. Average score (2.2142857142857144)\n",
            "Win/lose count 0.5/0. Average score (2.0)\n",
            "Win/lose count 1.0/0. Average score (1.8888888888888888)\n",
            "Win/lose count 2.0/0. Average score (1.9)\n",
            "Final score: 1.9\n",
            "Test of the FC\n",
            "Win/lose count 0/0. Average score (0.0)\n",
            "Win/lose count 1.0/1.0. Average score (0.0)\n",
            "Win/lose count 0/0. Average score (0.0)\n",
            "Win/lose count 0/0. Average score (0.0)\n",
            "Win/lose count 0/0. Average score (0.0)\n",
            "Win/lose count 0/0. Average score (0.0)\n",
            "Win/lose count 0/0. Average score (0.0)\n",
            "Win/lose count 0/0. Average score (0.0)\n",
            "Win/lose count 0/0. Average score (0.0)\n",
            "Win/lose count 0/0. Average score (0.0)\n",
            "Final score: 0.0\n"
          ],
          "name": "stdout"
        }
      ]
    },
    {
      "cell_type": "markdown",
      "metadata": {
        "id": "CI2wUmnOWCdE",
        "colab_type": "text"
      },
      "source": [
        "with this temperature, the results are worse for both the newtorks. Let's increase the temperature to 0.5"
      ]
    },
    {
      "cell_type": "code",
      "metadata": {
        "id": "-DqI2OTxXQ5W",
        "colab_type": "code",
        "outputId": "bd6f5295-d258-451e-8a05-3a3ce61afb2e",
        "colab": {
          "base_uri": "https://localhost:8080/",
          "height": 425
        }
      },
      "source": [
        "env = Environment(grid_size=size, max_time=T,temperature=0.5)\n",
        "agent_cnn = DQN_CNN(size, lr=.1, epsilon = 0.1, memory_size=2000, batch_size = 64)\n",
        "agent_cnn.load(name_weights='cnn_trainmodel.h5',name_model='cnn_trainmodel.json')\n",
        "\n",
        "agent_fc = DQN_FC(size, lr=.1, epsilon = 0.1, memory_size=2000, batch_size = 64)\n",
        "agent_cnn.load(name_weights='fc_trainmodel.h5',name_model='fc_trainmodel.json')\n",
        "print('Test of the CNN')\n",
        "test(agent_cnn,env,epochs_test,prefix='cnn_test')\n",
        "print('Test of the FC')\n",
        "test(agent_fc,env,epochs_test,prefix='fc_test')"
      ],
      "execution_count": 35,
      "outputs": [
        {
          "output_type": "stream",
          "text": [
            "Test of the CNN\n",
            "Win/lose count 1.0/0. Average score (1.0)\n",
            "Win/lose count 5.5/0. Average score (3.25)\n",
            "Win/lose count 5.5/0. Average score (4.0)\n",
            "Win/lose count 3.0/0. Average score (3.75)\n",
            "Win/lose count 3.0/0. Average score (3.6)\n",
            "Win/lose count 8.0/0. Average score (4.333333333333333)\n",
            "Win/lose count 2.5/0. Average score (4.071428571428571)\n",
            "Win/lose count 5.5/0. Average score (4.25)\n",
            "Win/lose count 11.5/0. Average score (5.055555555555555)\n",
            "Win/lose count 6.5/0. Average score (5.2)\n",
            "Final score: 5.2\n",
            "Test of the FC\n",
            "Win/lose count 0.5/0. Average score (0.5)\n",
            "Win/lose count 0/2.0. Average score (-0.75)\n",
            "Win/lose count 2.0/2.0. Average score (-0.5)\n",
            "Win/lose count 1.5/1.0. Average score (-0.25)\n",
            "Win/lose count 1.0/2.0. Average score (-0.4)\n",
            "Win/lose count 0/0. Average score (-0.3333333333333333)\n",
            "Win/lose count 1.5/3.0. Average score (-0.5)\n",
            "Win/lose count 0/1.0. Average score (-0.5625)\n",
            "Win/lose count 0.5/3.0. Average score (-0.7777777777777778)\n",
            "Win/lose count 0.5/0. Average score (-0.65)\n",
            "Final score: -0.65\n"
          ],
          "name": "stdout"
        }
      ]
    },
    {
      "cell_type": "markdown",
      "metadata": {
        "id": "_KfdpShqN110",
        "colab_type": "text"
      },
      "source": [
        "Here also, the CNN outperform the FC network. With higher temperatures, the scores are better as there is more food on the game. the probleme is the same with all temperatures values : after some time, the network looks stuck on a side of the board and spends his turns alternating between several empty cells.\n",
        "\n",
        "It's also really weird that the FC network is performing really bad when in training it was better than that. Anyway, we will continue with CNN networks\n",
        "\n",
        "Another problem is the variability of the results, and the fact that the training is very very long... . These two facts prevent us from doing a good parameter optimization"
      ]
    },
    {
      "cell_type": "markdown",
      "metadata": {
        "id": "ZQcz1mxBQ5ZG",
        "colab_type": "text"
      },
      "source": [
        "***\n",
        "\n",
        "The algorithm tends to not explore the map which can be an issue. We propose two ideas in order to encourage exploration:\n",
        "1. Incorporating a decreasing $\\epsilon$-greedy exploration. You can use the method ```set_epsilon```\n",
        "2. Append via the environment a new state that describes if a cell has been visited or not\n",
        "\n",
        "***\n",
        "__Question 10__ Design a new ```train_explore``` function and environment class ```EnvironmentExploring``` to tackle the issue of exploration.\n",
        "\n"
      ]
    },
    {
      "cell_type": "markdown",
      "metadata": {
        "id": "BSyy03gLZCBL",
        "colab_type": "text"
      },
      "source": [
        "we will implement a descreasing epsilon greedy exploration. we just add to the last functions a eps_decay argument, and we start with high values of epsilon to force the agent to explore all the cells."
      ]
    },
    {
      "cell_type": "code",
      "metadata": {
        "colab_type": "code",
        "id": "wFll2aq6V1K_",
        "colab": {}
      },
      "source": [
        "def train_explore(agent,env,epoch,prefix='',eps_decay=0.1, verbose=True, plot=False):\n",
        "    score = 0\n",
        "    loss = 0\n",
        "    scores, wins, losses = [], [], []\n",
        "\n",
        "    for e in range(epoch):\n",
        "        # At each epoch, we restart to a fresh game and get the initial state\n",
        "        state = env.reset()\n",
        "        # This assumes that the games will terminate\n",
        "        game_over = False\n",
        "\n",
        "        win = 0\n",
        "        lose = 0\n",
        "        agent.set_epsilon(agent.epsilon*(1-eps_decay))\n",
        "\n",
        "        while not game_over:\n",
        "            # The agent performs an action\n",
        "            action = agent.act(state)\n",
        "\n",
        "            # Apply an action to the environment, get the next state, the reward\n",
        "            # and if the games end\n",
        "            prev_state = state\n",
        "            state, reward, game_over = env.act(action, train=True)\n",
        "\n",
        "            # Update the counters\n",
        "            if reward > 0:\n",
        "                win = win + reward\n",
        "            if reward < 0:\n",
        "                lose = lose -reward\n",
        "\n",
        "            # Apply the reinforcement strategy\n",
        "            loss = agent.reinforce(prev_state, state,  action, reward, game_over)\n",
        "\n",
        "        # Save as a mp4\n",
        "        if e % 10 == 0:\n",
        "            env.draw(prefix+str(e))\n",
        "\n",
        "        # Update stats\n",
        "        score += win-lose\n",
        "        scores.append(score)\n",
        "        wins.append(win)\n",
        "        losses.append(lose)\n",
        "\n",
        "        if verbose : \n",
        "          print(\"Epoch {:03d}/{:03d} | Loss {:.4f} | Win/lose count {}/{} ({})\"\n",
        "                .format(e, epoch, loss, win, lose, win-lose))\n",
        "        agent.save(name_weights=prefix+'model.h5',name_model=prefix+'model.json')\n",
        "\n",
        "    if plot : \n",
        "      plt.plot(wins, label=\"wins\")\n",
        "      plt.plot(losses, label=\"losses\")\n",
        "      plt.xlabel(\"Epoch\")\n",
        "      plt.legend()\n",
        "      plt.grid()\n",
        "\n",
        "\n",
        "class EnvironmentExploring(object):\n",
        "    def __init__(self, grid_size=10, max_time=500, temperature=0.1):\n",
        "        grid_size = grid_size+4\n",
        "        self.grid_size = grid_size\n",
        "        self.max_time = max_time\n",
        "        self.temperature = temperature\n",
        "\n",
        "        #board on which one plays\n",
        "        self.board = np.zeros((grid_size,grid_size))\n",
        "        self.position = np.zeros((grid_size,grid_size))\n",
        "        \n",
        "        #board with previously visited cells\n",
        "        self.malus_position = np.zeros((grid_size,grid_size))\n",
        "\n",
        "        # coordinate of the cat\n",
        "        self.x = 0\n",
        "        self.y = 1\n",
        "\n",
        "        # self time\n",
        "        self.t = 0\n",
        "\n",
        "        self.scale=16\n",
        "\n",
        "        self.to_draw = np.zeros((max_time+2, grid_size*self.scale, grid_size*self.scale, 3))\n",
        "\n",
        "\n",
        "    def draw(self,e):\n",
        "        skvideo.io.vwrite(str(e) + '.mp4', self.to_draw)\n",
        "\n",
        "    def get_frame(self,t):\n",
        "        b = np.zeros((self.grid_size,self.grid_size,3))+128\n",
        "        b[self.board>0,0] = 256\n",
        "        b[self.board < 0, 2] = 256\n",
        "        b[self.x,self.y,:]=256\n",
        "        b[-2:,:,:]=0\n",
        "        b[:,-2:,:]=0\n",
        "        b[:2,:,:]=0\n",
        "        b[:,:2,:]=0\n",
        "        \n",
        "        b =  cv2.resize(b, None, fx=self.scale, fy=self.scale, interpolation=cv2.INTER_NEAREST)\n",
        "\n",
        "        self.to_draw[t,:,:,:]=b\n",
        "\n",
        "\n",
        "    def act(self, action, train=False):\n",
        "        \"\"\"This function returns the new state, reward and decides if the\n",
        "        game ends.\"\"\"\n",
        "\n",
        "        self.get_frame(int(self.t))\n",
        "\n",
        "        self.position = np.zeros((self.grid_size, self.grid_size))\n",
        "\n",
        "        self.position[0:2,:]= -1\n",
        "        self.position[:,0:2] = -1\n",
        "        self.position[-2:, :] = -1\n",
        "        self.position[-2:, :] = -1\n",
        "\n",
        "        self.position[self.x, self.y] = 1\n",
        "        if action == 0:\n",
        "            if self.x == self.grid_size-3:\n",
        "                self.x = self.x-1\n",
        "            else:\n",
        "                self.x = self.x + 1\n",
        "        elif action == 1:\n",
        "            if self.x == 2:\n",
        "                self.x = self.x+1\n",
        "            else:\n",
        "                self.x = self.x-1\n",
        "        elif action == 2:\n",
        "            if self.y == self.grid_size - 3:\n",
        "                self.y = self.y - 1\n",
        "            else:\n",
        "                self.y = self.y + 1\n",
        "        elif action == 3:\n",
        "            if self.y == 2:\n",
        "                self.y = self.y + 1\n",
        "            else:\n",
        "                self.y = self.y - 1\n",
        "        else:\n",
        "            RuntimeError('Error: action not recognized')\n",
        "\n",
        "        self.t = self.t + 1\n",
        "\n",
        "        reward = 0\n",
        "        if train:\n",
        "            reward = -self.malus_position[self.x, self.y]\n",
        "        self.malus_position[self.x, self.y] = 0.1\n",
        "        reward = reward + self.board[self.x, self.y]\n",
        "\n",
        "        self.board[self.x, self.y] = 0\n",
        "        \n",
        "        game_over = self.t > self.max_time\n",
        "        state = np.concatenate((self.malus_position.reshape(self.grid_size, self.grid_size,1),\n",
        "                                self.board.reshape(self.grid_size, self.grid_size,1),\n",
        "                        self.position.reshape(self.grid_size, self.grid_size,1)),axis=2)\n",
        "        state = state[self.x-2:self.x+3,self.y-2:self.y+3,:]\n",
        "\n",
        "        return state, reward, game_over\n",
        "\n",
        "    def reset(self):\n",
        "        \"\"\"This function resets the game and returns the initial state\"\"\"\n",
        "\n",
        "        self.x = np.random.randint(3, self.grid_size-3, size=1)[0]\n",
        "        self.y = np.random.randint(3, self.grid_size-3, size=1)[0]\n",
        "\n",
        "\n",
        "        bonus = 0.5*np.random.binomial(1,self.temperature,size=self.grid_size**2)\n",
        "        bonus = bonus.reshape(self.grid_size,self.grid_size)\n",
        "\n",
        "        malus = -1.0*np.random.binomial(1,self.temperature,size=self.grid_size**2)\n",
        "        malus = malus.reshape(self.grid_size, self.grid_size)\n",
        "\n",
        "        self.to_draw = np.zeros((self.max_time+2, self.grid_size*self.scale, self.grid_size*self.scale, 3))\n",
        "\n",
        "\n",
        "        malus[bonus>0]=0\n",
        "\n",
        "        self.board = bonus + malus\n",
        "\n",
        "        self.position = np.zeros((self.grid_size, self.grid_size))\n",
        "        self.position[0:2,:]= -1\n",
        "        self.position[:,0:2] = -1\n",
        "        self.position[-2:, :] = -1\n",
        "        self.position[-2:, :] = -1\n",
        "        self.board[self.x,self.y] = 0\n",
        "        self.t = 0\n",
        "        self.malus_position = np.zeros((self.grid_size, self.grid_size))\n",
        "        \n",
        "        state = np.concatenate((self.malus_position.reshape(self.grid_size, self.grid_size,1),\n",
        "                                        self.board.reshape(self.grid_size, self.grid_size,1),\n",
        "                                self.position.reshape(self.grid_size, self.grid_size,1)),axis=2)\n",
        "\n",
        "        state = state[self.x - 2:self.x + 3, self.y - 2:self.y + 3, :]\n",
        "        return state"
      ],
      "execution_count": 0,
      "outputs": []
    },
    {
      "cell_type": "markdown",
      "metadata": {
        "id": "GfS_chk_gppX",
        "colab_type": "text"
      },
      "source": [
        "with this strategy, the agent will first explore the environnment, then exploit it"
      ]
    },
    {
      "cell_type": "code",
      "metadata": {
        "id": "5P1HlM9nQ5ZI",
        "colab_type": "code",
        "colab": {
          "base_uri": "https://localhost:8080/",
          "height": 527
        },
        "outputId": "63eda8f6-2925-413e-b8b9-2f107fbfb4f5"
      },
      "source": [
        "# Training\n",
        "env = EnvironmentExploring(grid_size=size, max_time=T, temperature=0.6)\n",
        "agent = DQN_CNN(size, lr=.1, epsilon = 0.5, memory_size=2000, batch_size = 64,n_state=3)\n",
        "train_explore(agent, env, 30, prefix='cnn_train_explore')"
      ],
      "execution_count": 16,
      "outputs": [
        {
          "output_type": "stream",
          "text": [
            "Epoch 000/030 | Loss 0.0191 | Win/lose count 23.5/19.80000000000003 (3.699999999999971)\n",
            "Epoch 001/030 | Loss 0.0273 | Win/lose count 28.5/21.999999999999996 (6.5000000000000036)\n",
            "Epoch 002/030 | Loss 0.0345 | Win/lose count 31.5/21.800000000000033 (9.699999999999967)\n",
            "Epoch 003/030 | Loss 0.0340 | Win/lose count 29.0/19.600000000000026 (9.399999999999974)\n",
            "Epoch 004/030 | Loss 0.0245 | Win/lose count 26.0/24.10000000000007 (1.899999999999931)\n",
            "Epoch 005/030 | Loss 0.0300 | Win/lose count 35.0/20.50000000000003 (14.499999999999972)\n",
            "Epoch 006/030 | Loss 0.0317 | Win/lose count 33.0/16.199999999999967 (16.800000000000033)\n",
            "Epoch 007/030 | Loss 0.0300 | Win/lose count 28.5/13.69999999999997 (14.80000000000003)\n",
            "Epoch 008/030 | Loss 0.0501 | Win/lose count 27.0/18.5 (8.5)\n",
            "Epoch 009/030 | Loss 0.0268 | Win/lose count 19.5/21.300000000000033 (-1.8000000000000327)\n",
            "Epoch 010/030 | Loss 0.0363 | Win/lose count 38.5/16.599999999999977 (21.900000000000023)\n",
            "Epoch 011/030 | Loss 0.0160 | Win/lose count 27.0/21.00000000000002 (5.999999999999979)\n",
            "Epoch 012/030 | Loss 0.0214 | Win/lose count 48.0/13.699999999999973 (34.300000000000026)\n",
            "Epoch 013/030 | Loss 0.0229 | Win/lose count 29.0/18.900000000000013 (10.099999999999987)\n",
            "Epoch 014/030 | Loss 0.0251 | Win/lose count 36.5/12.799999999999978 (23.700000000000024)\n",
            "Epoch 015/030 | Loss 0.0358 | Win/lose count 34.0/15.29999999999997 (18.70000000000003)\n",
            "Epoch 016/030 | Loss 0.0155 | Win/lose count 27.0/19.29999999999998 (7.700000000000021)\n",
            "Epoch 017/030 | Loss 0.0196 | Win/lose count 13.5/24.000000000000068 (-10.500000000000068)\n",
            "Epoch 018/030 | Loss 0.0191 | Win/lose count 34.0/15.699999999999966 (18.300000000000033)\n",
            "Epoch 019/030 | Loss 0.0354 | Win/lose count 32.0/15.099999999999968 (16.900000000000034)\n",
            "Epoch 020/030 | Loss 0.0202 | Win/lose count 35.5/15.099999999999975 (20.400000000000027)\n",
            "Epoch 021/030 | Loss 0.0198 | Win/lose count 18.0/18.6 (-0.6000000000000014)\n",
            "Epoch 022/030 | Loss 0.0201 | Win/lose count 36.5/11.699999999999974 (24.800000000000026)\n",
            "Epoch 023/030 | Loss 0.0232 | Win/lose count 28.0/15.999999999999963 (12.000000000000037)\n",
            "Epoch 024/030 | Loss 0.0253 | Win/lose count 34.0/14.09999999999997 (19.90000000000003)\n",
            "Epoch 025/030 | Loss 0.0171 | Win/lose count 24.0/16.999999999999975 (7.000000000000025)\n",
            "Epoch 026/030 | Loss 0.0135 | Win/lose count 48.0/13.399999999999979 (34.60000000000002)\n",
            "Epoch 027/030 | Loss 0.0237 | Win/lose count 31.5/16.99999999999998 (14.500000000000021)\n",
            "Epoch 028/030 | Loss 0.0303 | Win/lose count 14.0/20.099999999999984 (-6.099999999999984)\n",
            "Epoch 029/030 | Loss 0.0216 | Win/lose count 31.0/15.199999999999966 (15.800000000000034)\n"
          ],
          "name": "stdout"
        }
      ]
    },
    {
      "cell_type": "code",
      "metadata": {
        "id": "ktBN5NouatIi",
        "colab_type": "code",
        "outputId": "2c9e13af-b6fb-4488-e366-94d29d0a3077",
        "colab": {
          "base_uri": "https://localhost:8080/",
          "height": 204
        }
      },
      "source": [
        "# Evaluation\n",
        "test(agent,env,epochs_test,prefix='cnn_test_explore')"
      ],
      "execution_count": 18,
      "outputs": [
        {
          "output_type": "stream",
          "text": [
            "Win/lose count 11.0/0. Average score (11.0)\n",
            "Win/lose count 30.0/2.0. Average score (19.5)\n",
            "Win/lose count 45.5/2.0. Average score (27.5)\n",
            "Win/lose count 20.5/3.0. Average score (25.0)\n",
            "Win/lose count 11.0/2.0. Average score (21.8)\n",
            "Win/lose count 12.0/0. Average score (20.166666666666668)\n",
            "Win/lose count 2.5/0. Average score (17.642857142857142)\n",
            "Win/lose count 11.0/0. Average score (16.8125)\n",
            "Win/lose count 13.5/0. Average score (16.444444444444443)\n",
            "Win/lose count 11.0/0. Average score (15.9)\n",
            "Final score: 15.9\n"
          ],
          "name": "stdout"
        }
      ]
    },
    {
      "cell_type": "code",
      "metadata": {
        "id": "pn4w8YDDPany",
        "colab_type": "code",
        "colab": {
          "base_uri": "https://localhost:8080/",
          "height": 293
        },
        "outputId": "44fa0eac-013a-4e01-d467-326866ff73ef"
      },
      "source": [
        "HTML(display_videos('cnn_test_explore9.mp4'))"
      ],
      "execution_count": 20,
      "outputs": [
        {
          "output_type": "execute_result",
          "data": {
            "text/html": [
              "<video alt=\"test\" controls>\n",
              "                <source src=\"data:video/mp4;base64,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\" type=\"video/mp4\" />\n",
              "             </video>"
            ],
            "text/plain": [
              "<IPython.core.display.HTML object>"
            ]
          },
          "metadata": {
            "tags": []
          },
          "execution_count": 20
        }
      ]
    },
    {
      "cell_type": "markdown",
      "metadata": {
        "id": "hWQIMsx2a2kA",
        "colab_type": "text"
      },
      "source": [
        "The results are way better than previously. looking at the videos, we can see that the agents is indeed better, but the stucking problem is still there..."
      ]
    },
    {
      "cell_type": "markdown",
      "metadata": {
        "id": "Wd2lcdz8Q5ZN",
        "colab_type": "text"
      },
      "source": [
        "***\n",
        "***\n",
        "__BONUS question__ Use the expert DQN from the previous question to generate some winning games. Train a model that mimicks its behavior. Compare the performances."
      ]
    },
    {
      "cell_type": "markdown",
      "metadata": {
        "id": "F-m1KEmEQ5ZO",
        "colab_type": "text"
      },
      "source": [
        ""
      ]
    },
    {
      "cell_type": "markdown",
      "metadata": {
        "id": "XuWqS6ylQ5ZO",
        "colab_type": "text"
      },
      "source": [
        "***"
      ]
    }
  ]
}